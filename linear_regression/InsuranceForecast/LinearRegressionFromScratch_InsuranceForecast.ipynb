{
 "cells": [
  {
   "cell_type": "code",
   "execution_count": 1,
   "metadata": {},
   "outputs": [],
   "source": [
    "# In this notebook, I will be implementing a Linear Regression algorithm from scratch to perform the task of \n",
    "# Insurance Forecast"
   ]
  },
  {
   "cell_type": "code",
   "execution_count": 2,
   "metadata": {},
   "outputs": [],
   "source": [
    "# Import Statements\n",
    "import numpy as np\n",
    "import pandas as pd\n",
    "from pathlib import Path\n",
    "import matplotlib.pyplot as plt"
   ]
  },
  {
   "cell_type": "code",
   "execution_count": 3,
   "metadata": {},
   "outputs": [
    {
     "data": {
      "text/html": [
       "<div>\n",
       "<style scoped>\n",
       "    .dataframe tbody tr th:only-of-type {\n",
       "        vertical-align: middle;\n",
       "    }\n",
       "\n",
       "    .dataframe tbody tr th {\n",
       "        vertical-align: top;\n",
       "    }\n",
       "\n",
       "    .dataframe thead th {\n",
       "        text-align: right;\n",
       "    }\n",
       "</style>\n",
       "<table border=\"1\" class=\"dataframe\">\n",
       "  <thead>\n",
       "    <tr style=\"text-align: right;\">\n",
       "      <th></th>\n",
       "      <th>age</th>\n",
       "      <th>sex</th>\n",
       "      <th>bmi</th>\n",
       "      <th>children</th>\n",
       "      <th>smoker</th>\n",
       "      <th>region</th>\n",
       "      <th>charges</th>\n",
       "    </tr>\n",
       "  </thead>\n",
       "  <tbody>\n",
       "    <tr>\n",
       "      <td>0</td>\n",
       "      <td>19</td>\n",
       "      <td>female</td>\n",
       "      <td>27.900</td>\n",
       "      <td>0</td>\n",
       "      <td>yes</td>\n",
       "      <td>southwest</td>\n",
       "      <td>16884.92400</td>\n",
       "    </tr>\n",
       "    <tr>\n",
       "      <td>1</td>\n",
       "      <td>18</td>\n",
       "      <td>male</td>\n",
       "      <td>33.770</td>\n",
       "      <td>1</td>\n",
       "      <td>no</td>\n",
       "      <td>southeast</td>\n",
       "      <td>1725.55230</td>\n",
       "    </tr>\n",
       "    <tr>\n",
       "      <td>2</td>\n",
       "      <td>28</td>\n",
       "      <td>male</td>\n",
       "      <td>33.000</td>\n",
       "      <td>3</td>\n",
       "      <td>no</td>\n",
       "      <td>southeast</td>\n",
       "      <td>4449.46200</td>\n",
       "    </tr>\n",
       "    <tr>\n",
       "      <td>3</td>\n",
       "      <td>33</td>\n",
       "      <td>male</td>\n",
       "      <td>22.705</td>\n",
       "      <td>0</td>\n",
       "      <td>no</td>\n",
       "      <td>northwest</td>\n",
       "      <td>21984.47061</td>\n",
       "    </tr>\n",
       "    <tr>\n",
       "      <td>4</td>\n",
       "      <td>32</td>\n",
       "      <td>male</td>\n",
       "      <td>28.880</td>\n",
       "      <td>0</td>\n",
       "      <td>no</td>\n",
       "      <td>northwest</td>\n",
       "      <td>3866.85520</td>\n",
       "    </tr>\n",
       "  </tbody>\n",
       "</table>\n",
       "</div>"
      ],
      "text/plain": [
       "   age     sex     bmi  children smoker     region      charges\n",
       "0   19  female  27.900         0    yes  southwest  16884.92400\n",
       "1   18    male  33.770         1     no  southeast   1725.55230\n",
       "2   28    male  33.000         3     no  southeast   4449.46200\n",
       "3   33    male  22.705         0     no  northwest  21984.47061\n",
       "4   32    male  28.880         0     no  northwest   3866.85520"
      ]
     },
     "execution_count": 3,
     "metadata": {},
     "output_type": "execute_result"
    }
   ],
   "source": [
    "# Load the data into a pandas dataframe\n",
    "root = Path('archive')\n",
    "filename = 'insurance.csv'\n",
    "\n",
    "insurance_data = pd.read_csv(root / filename)\n",
    "insurance_data.head()"
   ]
  },
  {
   "cell_type": "code",
   "execution_count": 4,
   "metadata": {},
   "outputs": [
    {
     "name": "stdout",
     "output_type": "stream",
     "text": [
      "   age     sex     bmi  children smoker     region\n",
      "0   19  female  27.900         0    yes  southwest\n",
      "1   18    male  33.770         1     no  southeast\n",
      "2   28    male  33.000         3     no  southeast\n",
      "3   33    male  22.705         0     no  northwest\n",
      "4   32    male  28.880         0     no  northwest \t <class 'pandas.core.frame.DataFrame'> \n",
      "        charges\n",
      "0  16884.92400\n",
      "1   1725.55230\n",
      "2   4449.46200\n",
      "3  21984.47061\n",
      "4   3866.85520 \t <class 'pandas.core.frame.DataFrame'>\n"
     ]
    }
   ],
   "source": [
    "# Separate the predictors and the target variable\n",
    "predictors = ['age', 'sex', 'bmi', 'children', 'smoker', 'region']\n",
    "targets = ['charges']\n",
    "\n",
    "X = insurance_data[predictors]\n",
    "Y = insurance_data[targets]\n",
    "\n",
    "print(X.head(), '\\t', type(X), '\\n', Y.head(), '\\t',type(Y))\n"
   ]
  },
  {
   "cell_type": "code",
   "execution_count": 5,
   "metadata": {},
   "outputs": [],
   "source": [
    "np.random.seed(seed = 42)"
   ]
  },
  {
   "cell_type": "code",
   "execution_count": 6,
   "metadata": {},
   "outputs": [
    {
     "name": "stdout",
     "output_type": "stream",
     "text": [
      "(1070, 6) (1070, 1) (268, 6) (268, 1)\n"
     ]
    }
   ],
   "source": [
    "# Create the train and test set\n",
    "shuffled_indices = np.random.permutation(len(X))\n",
    "train_set_size = int(0.8*len(X))\n",
    "\n",
    "X_train = X.loc[shuffled_indices[:train_set_size]]\n",
    "Y_train = Y.loc[shuffled_indices[:train_set_size]]\n",
    "X_test = X.loc[shuffled_indices[train_set_size:]]\n",
    "Y_test = Y.loc[shuffled_indices[train_set_size:]]\n",
    "\n",
    "print(X_train.shape, Y_train.shape, X_test.shape, Y_test.shape)"
   ]
  },
  {
   "cell_type": "code",
   "execution_count": 7,
   "metadata": {},
   "outputs": [],
   "source": [
    "num_attributes = ['age','bmi','children']\n",
    "cat_attributes = ['sex','smoker','region']"
   ]
  },
  {
   "cell_type": "code",
   "execution_count": 8,
   "metadata": {},
   "outputs": [
    {
     "name": "stdout",
     "output_type": "stream",
     "text": [
      "Before Normalization:  \n",
      " [[45.    25.175  2.   ]\n",
      " [36.    30.02   0.   ]\n",
      " [64.    26.885  0.   ]\n",
      " [46.    25.745  3.   ]\n",
      " [19.    31.92   0.   ]] \n",
      "\n",
      "\n",
      "After Normalization:  \n",
      " [[ 0.40451627 -0.90615783  0.75456518]\n",
      " [-0.24000585 -0.11632218 -0.92573605]\n",
      " [ 1.76517407 -0.62739231 -0.92573605]\n",
      " [ 0.47612984 -0.81323599  1.59471579]\n",
      " [-1.45743651  0.19341729 -0.92573605]] \n",
      "\n",
      "\n",
      "Feature Means:  [[39.35140187 30.73354206  1.10186916]] \n",
      "\n",
      "Feature Standard Deviations:  [[13.96383422  6.13418753  1.19026278]]\n"
     ]
    }
   ],
   "source": [
    "# Normalize the numerical attributes in the train set\n",
    "def Normalize_FitTransform(array):\n",
    "    '''This function computes the mean and std of each column in an array and normalizes the data in each column, so that \n",
    "    each column will have a mean of 0 and a std of 1.'''\n",
    "    mu = np.zeros((array.shape[1],1))\n",
    "    sigma = np.zeros((array.shape[1],1))\n",
    "    \n",
    "    for j in range(array.shape[1]):\n",
    "        mu[j] = np.mean(array[:,j])\n",
    "        sigma[j] = np.std(array[:,j])\n",
    "        \n",
    "        array[:,j] = (array[:,j] - mu[j])/sigma[j]\n",
    "    return array, mu, sigma\n",
    "\n",
    "X_train_norm_num, mu, sigma = Normalize_FitTransform(X_train[num_attributes].to_numpy())\n",
    "\n",
    "print('Before Normalization: ', '\\n', X_train[num_attributes].to_numpy()[:5], '\\n\\n')\n",
    "print('After Normalization: ', '\\n', X_train_norm_num[:5], '\\n\\n')\n",
    "print('Feature Means: ', mu.T, '\\n')\n",
    "print('Feature Standard Deviations: ', sigma.T)"
   ]
  },
  {
   "cell_type": "code",
   "execution_count": 9,
   "metadata": {},
   "outputs": [
    {
     "name": "stdout",
     "output_type": "stream",
     "text": [
      "Before Normalization:  \n",
      " [[45.    30.495  2.   ]\n",
      " [54.    31.9    1.   ]\n",
      " [24.    28.5    0.   ]\n",
      " [18.    25.175  0.   ]\n",
      " [52.    30.78   1.   ]] \n",
      "\n",
      "\n",
      "After Normalization:  \n",
      " [[ 0.40451627 -0.03888731  0.75456518]\n",
      " [ 1.04903839  0.19015688 -0.08558544]\n",
      " [-1.09936867 -0.36411376 -0.92573605]\n",
      " [-1.52905008 -0.90615783 -0.92573605]\n",
      " [ 0.90581125  0.00757361 -0.08558544]] \n",
      "\n",
      "\n"
     ]
    }
   ],
   "source": [
    "# Normalize the numerical attributes in the test set\n",
    "def Normalize_Transform(array, mu, sigma):\n",
    "    '''This function uses the mean and std parameters calculated on the train set and normalizes the test set using those \n",
    "    parameters'''\n",
    "    for j in range(array.shape[1]):\n",
    "        array[:,j] = (array[:,j] - mu[j])/sigma[j]\n",
    "        \n",
    "    return array\n",
    "\n",
    "X_test_norm_num = Normalize_Transform(X_test[num_attributes].to_numpy(), mu, sigma)\n",
    "\n",
    "print('Before Normalization: ', '\\n', X_test[num_attributes].to_numpy()[:5], '\\n\\n')\n",
    "print('After Normalization: ', '\\n', X_test_norm_num[:5], '\\n\\n')"
   ]
  },
  {
   "cell_type": "code",
   "execution_count": 10,
   "metadata": {},
   "outputs": [
    {
     "data": {
      "text/plain": [
       "'\\n# Proof of Normalization\\n\\nmu = np.zeros((X_train_norm_num.shape[1],1))\\nsigma = np.zeros((X_train_norm_num.shape[1],1))\\n    \\nfor j in range(X_train_norm_num.shape[1]):\\n    mu[j] = np.mean(X_train_norm_num[:,j])\\n    sigma[j] = np.std(X_train_norm_num[:,j])\\n    \\nprint(mu)   # Mean: 0\\nprint(sigma)  # Std: 1\\n'"
      ]
     },
     "execution_count": 10,
     "metadata": {},
     "output_type": "execute_result"
    }
   ],
   "source": [
    "'''\n",
    "# Proof of Normalization\n",
    "\n",
    "mu = np.zeros((X_train_norm_num.shape[1],1))\n",
    "sigma = np.zeros((X_train_norm_num.shape[1],1))\n",
    "    \n",
    "for j in range(X_train_norm_num.shape[1]):\n",
    "    mu[j] = np.mean(X_train_norm_num[:,j])\n",
    "    sigma[j] = np.std(X_train_norm_num[:,j])\n",
    "    \n",
    "print(mu)   # Mean: 0\n",
    "print(sigma)  # Std: 1\n",
    "'''    "
   ]
  },
  {
   "cell_type": "code",
   "execution_count": 11,
   "metadata": {},
   "outputs": [
    {
     "name": "stdout",
     "output_type": "stream",
     "text": [
      "(1070, 8) (268, 8)\n"
     ]
    }
   ],
   "source": [
    "# Encode the categorical attributes in the train and test set\n",
    "def indexValues(listVar):\n",
    "    '''This function creates a dictionary, with keys: 0, 1 ... and values: the unique values in the list passed as argument'''\n",
    "    d = {}\n",
    "    index = 0\n",
    "    for item in listVar:\n",
    "        if item not in d.values():\n",
    "            d[index] = item\n",
    "            index += 1\n",
    "    return d\n",
    "\n",
    "def OneHotEncode(array):\n",
    "    '''This function performs the task of One Hot Encoding for the categorical attributes'''\n",
    "    finalArray = np.zeros((array.shape[0],1))  # temporarily, will remove 0's later\n",
    "\n",
    "    for j in range(array.shape[1]):\n",
    "        col = array[:,j].tolist()\n",
    "        d = indexValues(col)\n",
    "        list2D = [[0 for b in range(len(d))] for a in range(array.shape[0])]\n",
    "\n",
    "        for b in range(len(d)):\n",
    "            for a in range(array.shape[0]):\n",
    "                if col[a] == d[b]:\n",
    "                    list2D[a][b] = 1\n",
    "                else:\n",
    "                    continue          \n",
    "        featureArray = np.array(list2D)\n",
    "        finalArray = np.hstack((finalArray, featureArray))\n",
    "    finalArray = finalArray[:,1:]\n",
    "    return finalArray\n",
    "    \n",
    "X_train_encoded_cat = OneHotEncode(X_train[cat_attributes].to_numpy())\n",
    "X_test_encoded_cat = OneHotEncode(X_test[cat_attributes].to_numpy())\n",
    "print(X_train_encoded_cat.shape, X_test_encoded_cat.shape)"
   ]
  },
  {
   "cell_type": "code",
   "execution_count": 12,
   "metadata": {},
   "outputs": [
    {
     "name": "stdout",
     "output_type": "stream",
     "text": [
      "(1070, 12) (268, 12)\n"
     ]
    }
   ],
   "source": [
    "# Prepare the data for the ML algorithms\n",
    "X_train_prepared = np.c_[np.ones((len(X_train),1)), X_train_norm_num, X_train_encoded_cat]\n",
    "X_test_prepared = np.c_[np.ones((len(X_test),1)), X_test_norm_num, X_test_encoded_cat]\n",
    "Y_train = Y_train.to_numpy()\n",
    "Y_test = Y_test.to_numpy()\n",
    "print(X_train_prepared.shape, X_test_prepared.shape)"
   ]
  },
  {
   "cell_type": "markdown",
   "metadata": {},
   "source": [
    "### Using the Normal Equation "
   ]
  },
  {
   "cell_type": "code",
   "execution_count": 13,
   "metadata": {},
   "outputs": [],
   "source": [
    "theta_final = np.linalg.pinv(X_train_prepared).dot(Y_train) # Some features in X_train_prepared are redundant, so the normal approach raises a Singular Matrix error \n",
    "# Test Set RMSE: 5917"
   ]
  },
  {
   "cell_type": "markdown",
   "metadata": {},
   "source": [
    "### Using Gradient Descent "
   ]
  },
  {
   "cell_type": "code",
   "execution_count": 14,
   "metadata": {},
   "outputs": [
    {
     "name": "stdout",
     "output_type": "stream",
     "text": [
      "Cost:  \n",
      " 321350182.6108162 \n",
      "\n",
      "Gradient:  \n",
      " [[-26625.79789114]\n",
      " [ -7130.72829994]\n",
      " [ -4683.52193663]\n",
      " [ -1440.40057639]\n",
      " [-12360.20781091]\n",
      " [-14265.59008023]\n",
      " [-13452.86296578]\n",
      " [-13172.93492536]\n",
      " [ -5965.59805741]\n",
      " [ -6299.6731446 ]\n",
      " [ -6460.69945198]\n",
      " [ -7899.82723715]]\n"
     ]
    }
   ],
   "source": [
    "def CostFunction(X,Y,theta):\n",
    "    m = X.shape[0]\n",
    "    '''\n",
    "    J = 0\n",
    "    for i in range(m):\n",
    "        J += (X[i,:].dot(theta) - Y[i])**2\n",
    "    J = (1/m)*J\n",
    "    '''\n",
    "    J = (1/m)*np.sum((X.dot(theta)-Y)**2)\n",
    "    \n",
    "    return J\n",
    "\n",
    "def Gradients(X,Y,theta):\n",
    "    m = X.shape[0]\n",
    "    '''\n",
    "    gradients = np.zeros(theta.shape)\n",
    "    for j in range(theta.shape[0]):\n",
    "        for i in range(m):\n",
    "            gradients[j] += (X[i,:].dot(theta) - Y[i])*X[i,j]\n",
    "        gradients[j] = (2/m)*gradients[j]\n",
    "    '''\n",
    "    gradients = (2/m)*(X.T.dot(X.dot(theta)-Y))\n",
    "    \n",
    "    return gradients\n",
    "\n",
    "print('Cost: ', '\\n', CostFunction(X_train_prepared, Y_train, np.random.rand(X_train_prepared.shape[1],1)), '\\n')\n",
    "print('Gradient: ', '\\n', Gradients(X_train_prepared, Y_train, np.random.rand(X_train_prepared.shape[1],1)))"
   ]
  },
  {
   "cell_type": "code",
   "execution_count": 15,
   "metadata": {},
   "outputs": [],
   "source": [
    "def BatchGradientDescent(X_train,Y_train,max_iters = 40000,alpha = 0.1, tolerance = 0.0001):\n",
    "    m = X_train.shape[0]\n",
    "    theta = np.zeros((X_train.shape[1],1))\n",
    "    cost_history = []\n",
    "    previous_step_size = 1\n",
    "    iteration = 0\n",
    "    \n",
    "    while iteration < max_iters and previous_step_size > tolerance:\n",
    "        cost = CostFunction(X_train, Y_train, theta)\n",
    "        cost_history.append(cost)\n",
    "        previous_theta = theta\n",
    "        \n",
    "        theta = theta - (alpha/m)*Gradients(X_train, Y_train, previous_theta)\n",
    "        \n",
    "        previous_step_size = np.linalg.norm((theta - previous_theta))\n",
    "        iteration += 1\n",
    "    \n",
    "    print('The Local Minima occurs at: ', theta, 'at ', iteration, 'iterations.')\n",
    "    return theta, cost_history"
   ]
  },
  {
   "cell_type": "code",
   "execution_count": 16,
   "metadata": {},
   "outputs": [],
   "source": [
    "def StochasticGradientDescent(X_train, Y_train, epochs = 100, alpha = 0.1, tolerance = 0.0001, batch_size = 1):\n",
    "    m = X_train.shape[0]\n",
    "    theta = np.zeros((X_train.shape[1],1))\n",
    "    cost_history = []\n",
    "    previous_step_size = 1\n",
    "    epoch = 0\n",
    "    \n",
    "    while epoch < epochs and previous_step_size > tolerance:\n",
    "        shuffled_indices = np.random.permutation(len(X_train))\n",
    "        X_train = X_train[shuffled_indices]\n",
    "        Y_train = Y_train[shuffled_indices]\n",
    "        \n",
    "        for i in range(m):\n",
    "            cost = CostFunction(X_train,Y_train,theta)\n",
    "            cost_history.append(cost)\n",
    "            previous_theta = theta\n",
    "            \n",
    "            theta = theta - (alpha/m)*Gradients(np.array(X_train)[i:i+batch_size,:], np.array(Y_train)[i:i+batch_size], previous_theta)\n",
    "            \n",
    "            previous_step_size = np.linalg.norm((theta - previous_theta))\n",
    "        \n",
    "        epoch += 1\n",
    "            \n",
    "    print('The Local Minima occurs at: ', theta, 'at ', epoch, 'epochs.')\n",
    "    return theta, cost_history"
   ]
  },
  {
   "cell_type": "code",
   "execution_count": 17,
   "metadata": {},
   "outputs": [],
   "source": [
    "def MiniBatchGradientDescent(X_train, Y_train, epochs = 100000, alpha = 0.1, tolerance = 0.0001, batch_size = 100):\n",
    "    m = X_train.shape[0]\n",
    "    theta = np.random.rand(X_train.shape[1],1)\n",
    "    cost_history = []\n",
    "    previous_step_size = 1\n",
    "    epoch = 0\n",
    "    \n",
    "    while epoch < epochs and previous_step_size > tolerance:\n",
    "        shuffled_indices = np.random.permutation(len(X_train))\n",
    "        X_train = X_train[shuffled_indices]\n",
    "        Y_train = Y_train[shuffled_indices]\n",
    "        \n",
    "        \n",
    "        cost = CostFunction(X_train,Y_train,theta)\n",
    "        cost_history.append(cost)\n",
    "        previous_theta = theta\n",
    "            \n",
    "        theta = theta - (alpha/m)*Gradients(np.array(X_train)[:batch_size,:], np.array(Y_train)[:batch_size], previous_theta)\n",
    "            \n",
    "        previous_step_size = np.linalg.norm((theta - previous_theta))\n",
    "        \n",
    "        epoch += 1\n",
    "            \n",
    "    print('The Local Minima occurs at: ', theta, 'at ', epoch, 'epochs.')\n",
    "    return theta, cost_history"
   ]
  },
  {
   "cell_type": "code",
   "execution_count": 18,
   "metadata": {},
   "outputs": [
    {
     "name": "stdout",
     "output_type": "stream",
     "text": [
      "The Local Minima occurs at:  [[ 8990.32233579]\n",
      " [ 3643.31241979]\n",
      " [ 1985.8126083 ]\n",
      " [  575.76803326]\n",
      " [ 4509.42993538]\n",
      " [ 4480.89240041]\n",
      " [-7271.16065004]\n",
      " [16261.48298583]\n",
      " [ 2839.98143038]\n",
      " [ 2494.48292082]\n",
      " [ 1930.46517835]\n",
      " [ 1725.39280625]] at  100 epochs.\n"
     ]
    }
   ],
   "source": [
    "strategy = ['BGD', 'SGD', 'MBGD'][1]\n",
    "\n",
    "if strategy == 'BGD':\n",
    "    theta_final, cost_history = BatchGradientDescent(X_train_prepared, Y_train, max_iters = 100000)\n",
    "    # Train Set RMSE: 6076\n",
    "    # Test Set RMSE: 5919\n",
    "elif strategy == 'SGD':\n",
    "    theta_final, cost_history = StochasticGradientDescent(X_train_prepared, Y_train)\n",
    "    # Train Set RMSE: 6075\n",
    "    # Test Set RMSE: 5917\n",
    "elif strategy == 'MBGD':    \n",
    "    theta_final, cost_history = MiniBatchGradientDescent(X_train_prepared, Y_train)\n",
    "    # Train Set RMSE: 6076\n",
    "    # Test Set RMSE: 5921\n",
    "    "
   ]
  },
  {
   "cell_type": "code",
   "execution_count": 19,
   "metadata": {},
   "outputs": [
    {
     "data": {
      "image/png": "[encoded data removed]",
      "text/plain": [
       "<Figure size 432x288 with 1 Axes>"
      ]
     },
     "metadata": {
      "needs_background": "light"
     },
     "output_type": "display_data"
    }
   ],
   "source": [
    "\n",
    "plt.plot(np.arange(len(cost_history)), np.sqrt(cost_history))\n",
    "plt.xlabel('Iteration')\n",
    "plt.ylabel('RMSE')\n",
    "plt.title('RMSE vs Iteration')\n",
    "#plt.savefig('{}_RMSEvsIteration'.format(strategy))\n",
    "plt.show()\n"
   ]
  },
  {
   "cell_type": "code",
   "execution_count": 20,
   "metadata": {},
   "outputs": [],
   "source": [
    "def predictTestData(X_test, theta):\n",
    "    predictions = X_test.dot(theta)\n",
    "    return predictions\n",
    "\n",
    "Y_test_predictions = predictTestData(X_test_prepared, theta_final)"
   ]
  },
  {
   "cell_type": "code",
   "execution_count": 21,
   "metadata": {},
   "outputs": [
    {
     "name": "stdout",
     "output_type": "stream",
     "text": [
      "Test Set Performance: \n",
      "\t MSE:  38879121.34523096\n",
      "\t RMSE:  6235.312449687743 \n",
      "\n",
      "Train Set Performance: \n",
      "\t 5997.037156551076\n"
     ]
    }
   ],
   "source": [
    "def RMSE(Y_test, Y_test_predictions):\n",
    "    '''This function computes the Mean Square Error (MSE) and the Root Mean Square Error (RMSE)'''\n",
    "    mse = (1/len(Y_test))*(np.sum((Y_test - Y_test_predictions)**2))\n",
    "    rmse = np.sqrt(mse)\n",
    "    return mse, rmse\n",
    "\n",
    "mse, rmse = RMSE(Y_test, Y_test_predictions)\n",
    "print('Test Set Performance: ')\n",
    "print('\\t', 'MSE: ', mse)\n",
    "print('\\t','RMSE: ', rmse, '\\n')\n",
    "\n",
    "print('Train Set Performance: ')\n",
    "print('\\t', np.sqrt(cost_history[-1]))\n"
   ]
  },
  {
   "cell_type": "code",
   "execution_count": null,
   "metadata": {},
   "outputs": [],
   "source": []
  }
 ],
 "metadata": {
  "kernelspec": {
   "display_name": "Python 3",
   "language": "python",
   "name": "python3"
  },
  "language_info": {
   "codemirror_mode": {
    "name": "ipython",
    "version": 3
   },
   "file_extension": ".py",
   "mimetype": "text/x-python",
   "name": "python",
   "nbconvert_exporter": "python",
   "pygments_lexer": "ipython3",
   "version": "3.7.4"
  }
 },
 "nbformat": 4,
 "nbformat_minor": 2
}
