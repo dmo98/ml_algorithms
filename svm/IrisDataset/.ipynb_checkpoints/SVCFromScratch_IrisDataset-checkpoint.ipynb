{
 "cells": [
  {
   "cell_type": "code",
   "execution_count": 1,
   "metadata": {},
   "outputs": [],
   "source": [
    "# In this notebook, I will be implementing 3 Linear Support Vector Machine (SVM) Classifier models from scratch, one for each\n",
    "# class of the Iris Dataset (using the OvR strategy), and using them to predict the class of the instances in the test set."
   ]
  },
  {
   "cell_type": "code",
   "execution_count": 2,
   "metadata": {},
   "outputs": [],
   "source": [
    "import numpy as np\n",
    "from sklearn import datasets\n",
    "import matplotlib.pyplot as plt"
   ]
  },
  {
   "cell_type": "code",
   "execution_count": 3,
   "metadata": {},
   "outputs": [
    {
     "data": {
      "text/plain": [
       "dict_keys(['data', 'target', 'target_names', 'DESCR', 'feature_names', 'filename'])"
      ]
     },
     "execution_count": 3,
     "metadata": {},
     "output_type": "execute_result"
    }
   ],
   "source": [
    "iris_data = datasets.load_iris()\n",
    "iris_data.keys()"
   ]
  },
  {
   "cell_type": "code",
   "execution_count": 4,
   "metadata": {},
   "outputs": [],
   "source": [
    "X = iris_data['data']\n",
    "Y = iris_data['target']"
   ]
  },
  {
   "cell_type": "code",
   "execution_count": 5,
   "metadata": {},
   "outputs": [
    {
     "name": "stdout",
     "output_type": "stream",
     "text": [
      "[0. 0. 0. 1. 1. 1. 0. 0. 1. 1. 1. 0. 0. 0. 0. 0. 0. 0. 1. 0.] \n",
      " [1. 0. 0. 0. 0. 0. 1. 1. 0. 0. 0. 0. 0. 0. 0. 0. 1. 1. 0. 1.] \n",
      " [0. 1. 1. 0. 0. 0. 0. 0. 0. 0. 0. 1. 1. 1. 1. 1. 0. 0. 0. 0.]\n"
     ]
    }
   ],
   "source": [
    "shuffled_indices = np.random.permutation(len(X))\n",
    "train_set_size = int(0.8*len(X))\n",
    "\n",
    "X_train = X[shuffled_indices[:train_set_size]]\n",
    "X_test = X[shuffled_indices[train_set_size:]]\n",
    "\n",
    "\n",
    "# For the Iris Setosa detector\n",
    "Y_train1 = (Y[shuffled_indices[:train_set_size]] == 0).astype(np.float64)\n",
    "Y_test1 = (Y[shuffled_indices[train_set_size:]] == 0).astype(np.float64)\n",
    "# For the Iris Versicolor detector\n",
    "Y_train2 = (Y[shuffled_indices[:train_set_size]] == 1).astype(np.float64)\n",
    "Y_test2 = (Y[shuffled_indices[train_set_size:]] == 1).astype(np.float64)\n",
    "# For the Iris Virginica detector\n",
    "Y_train3 = (Y[shuffled_indices[:train_set_size]] == 2).astype(np.float64)\n",
    "Y_test3 = (Y[shuffled_indices[train_set_size:]] == 2).astype(np.float64)\n",
    "\n",
    "print(Y_train1[:20], '\\n', Y_train2[:20], '\\n', Y_train3[:20])"
   ]
  },
  {
   "cell_type": "code",
   "execution_count": 6,
   "metadata": {},
   "outputs": [
    {
     "name": "stdout",
     "output_type": "stream",
     "text": [
      "Normalized Train Data:  \n",
      " [[ 1.         -0.311267   -1.28524472  0.03237708 -0.20423486]\n",
      " [ 1.          0.17699496 -2.00594269  0.67025396  0.32282285]\n",
      " [ 1.          0.78732241 -0.08408143  0.78623157  0.98164499]\n",
      " [ 1.         -1.65398739 -1.76571004 -1.47533189 -1.25835029]\n",
      " [ 1.         -0.43333249  1.11708186 -1.47533189 -1.39011472]] \n",
      "\n",
      "Feature Means:  \n",
      " [[5.855     ]\n",
      " [3.035     ]\n",
      " [3.84416667]\n",
      " [1.255     ]] \n",
      "\n",
      "Feature Standard Deviation:  \n",
      " [[0.81923236]\n",
      " [0.41626314]\n",
      " [1.72447073]\n",
      " [0.75893017]]\n"
     ]
    }
   ],
   "source": [
    "def Normalize_FitTransform(array):\n",
    "    mu = np.zeros((array.shape[1],1))\n",
    "    sigma = np.zeros((array.shape[1],1))\n",
    "    \n",
    "    for j in range(array.shape[1]):\n",
    "        mu[j] = np.mean(array[:,j])\n",
    "        sigma[j] = np.std(array[:,j])\n",
    "        \n",
    "        array[:,j] = (array[:,j] - mu[j])/sigma[j]\n",
    "    \n",
    "    return array, mu, sigma\n",
    "\n",
    "X_train_norm, mu, sigma = Normalize_FitTransform(X_train)\n",
    "X_train_norm = np.c_[np.ones((X_train_norm.shape[0],1)), X_train_norm]\n",
    "print('Normalized Train Data: ', '\\n', X_train_norm[:5], '\\n')\n",
    "print('Feature Means: ', '\\n', mu, '\\n')\n",
    "print('Feature Standard Deviation: ', '\\n', sigma)"
   ]
  },
  {
   "cell_type": "code",
   "execution_count": 7,
   "metadata": {},
   "outputs": [
    {
     "name": "stdout",
     "output_type": "stream",
     "text": [
      "Normalized Test Data:  \n",
      " [[ 1.         -0.92159445  1.11708186 -1.41734308 -1.25835029]\n",
      " [ 1.         -0.18920151  3.27917578 -1.35935428 -1.12658587]\n",
      " [ 1.          0.42112594 -0.32431409  0.26433231  0.05929399]\n",
      " [ 1.          0.54319143 -0.8047794   0.61226515  0.71811614]\n",
      " [ 1.         -0.06713602 -0.8047794   0.72824276  0.84988056]]\n"
     ]
    }
   ],
   "source": [
    "def Normalize_Transform(array, mu, sigma):\n",
    "    for j in range(array.shape[1]):\n",
    "        array[:,j] = (array[:,j] - mu[j])/sigma[j]\n",
    "    return array\n",
    "\n",
    "X_test_norm = Normalize_Transform(X_test, mu, sigma)\n",
    "X_test_norm = np.c_[np.ones((X_test_norm.shape[0],1)), X_test_norm]\n",
    "print('Normalized Test Data: ', '\\n', X_test_norm[:5])"
   ]
  },
  {
   "cell_type": "markdown",
   "metadata": {},
   "source": [
    "### SVM with a Linear Kernel"
   ]
  },
  {
   "cell_type": "code",
   "execution_count": 8,
   "metadata": {},
   "outputs": [
    {
     "name": "stdout",
     "output_type": "stream",
     "text": [
      "SVM Predictions with a random weight vector:  \n",
      " [[0.]\n",
      " [0.]\n",
      " [1.]\n",
      " [0.]\n",
      " [0.]\n",
      " [0.]\n",
      " [1.]\n",
      " [0.]\n",
      " [0.]\n",
      " [0.]] \n",
      "\n",
      "SVM Cost Function with a random weight vector:  \n",
      " [[123.85780651]] \n",
      "\n",
      "SVM Gradient with a random weight vector:  \n",
      " [[-0.18625605]\n",
      " [ 0.7122832 ]\n",
      " [ 0.47680152]\n",
      " [ 1.13670708]\n",
      " [ 0.68068799]]\n"
     ]
    }
   ],
   "source": [
    "def SVMPrediction(X,W):\n",
    "    Y_predicted = np.zeros((X.shape[0],1))\n",
    "    \n",
    "    for i in range(X.shape[0]):\n",
    "        if W.T.dot(X[i,:]) < 0:\n",
    "            Y_predicted[i] = 0\n",
    "        else:\n",
    "            Y_predicted[i] = 1\n",
    "    return Y_predicted\n",
    "\n",
    "def SVMCostFunction(X,Y,W,C):\n",
    "    m = X.shape[0]\n",
    "    \n",
    "    hinge_loss = C*((1/m)*np.sum(np.maximum(np.zeros((m,1)), 1 - Y*(X.dot(W)))))\n",
    "    J = 0.5*W.T.dot(W) + hinge_loss\n",
    "    return J\n",
    "\n",
    "def SVMGradient(X,Y,W,C):\n",
    "    m = X.shape[0]\n",
    "    \n",
    "    gradient = np.zeros(W.shape)\n",
    "    for i in range(m):\n",
    "        if max(0, 1 - Y[i]*(W.T.dot(X[i,:]))) == 0:\n",
    "            gradient += W\n",
    "        else:\n",
    "            gradient += (W - C*Y[i].item()*X[i,:].reshape((X.shape[1],1)))\n",
    "    gradient = (1/m)*gradient\n",
    "    return gradient\n",
    "\n",
    "W = np.random.rand(X_train_norm.shape[1],1)\n",
    "print('SVM Predictions with a random weight vector: ', '\\n', SVMPrediction(X_train_norm, W)[:10], '\\n')\n",
    "print('SVM Cost Function with a random weight vector: ', '\\n', SVMCostFunction(X_train_norm, Y_train1, W, 1), '\\n')\n",
    "print('SVM Gradient with a random weight vector: ', '\\n', SVMGradient(X_train_norm, Y_train1, W, 1))"
   ]
  },
  {
   "cell_type": "code",
   "execution_count": 9,
   "metadata": {},
   "outputs": [],
   "source": [
    "def BatchGradientDescent(X_train, Y_train, C = 1, max_iters = 40000, alpha = 0.1, tolerance = 0.000000001):\n",
    "    m = X_train.shape[0]\n",
    "    W = np.zeros((X_train.shape[1],1))\n",
    "    previous_step_size = 1\n",
    "    iteration = 0\n",
    "    cost_history = []\n",
    "    \n",
    "    while iteration < max_iters and previous_step_size > tolerance:\n",
    "        cost = SVMCostFunction(X_train,Y_train,W,C)\n",
    "        cost_history.append(cost)\n",
    "        \n",
    "        W_previous = W\n",
    "        W = W - (alpha/m)*SVMGradient(X_train,Y_train,W,C)\n",
    "        previous_step_size = np.linalg.norm((W - W_previous))\n",
    "        \n",
    "        iteration += 1\n",
    "    \n",
    "    print('The SVM model found the largest margin after {} iterations at W: '.format(iteration) ,'\\n', W)\n",
    "    return W, cost_history"
   ]
  },
  {
   "cell_type": "code",
   "execution_count": 10,
   "metadata": {},
   "outputs": [],
   "source": [
    "def StochasticGradientDescent(X_train, Y_train, C = 1, epochs = 500, alpha = 0.1, tolerance = 0.000000001, batch_size = 1):\n",
    "    m = X_train.shape[0]\n",
    "    W = np.zeros((X_train.shape[1],1))\n",
    "    cost_history = []\n",
    "    previous_step_size = 1\n",
    "    epoch = 0\n",
    "    \n",
    "    while epoch < epochs and previous_step_size > tolerance:\n",
    "        shuffled_indices = np.random.permutation(len(X_train))\n",
    "        X_train = X_train[shuffled_indices]\n",
    "        Y_train = Y_train[shuffled_indices]\n",
    "        \n",
    "        for i in range(m):\n",
    "            cost = SVMCostFunction(X_train,Y_train,W,C)\n",
    "            cost_history.append(cost)\n",
    "            W_previous = W\n",
    "            \n",
    "            W = W - (alpha/m)*SVMGradient(np.array(X_train)[i:i+batch_size,:], np.array(Y_train)[i:i+batch_size], W_previous,C)\n",
    "            \n",
    "            previous_step_size = np.linalg.norm((W - W_previous))\n",
    "        \n",
    "        epoch += 1\n",
    "            \n",
    "    print('The SVM model found the largest margin after {} epochs at W: '.format(epoch) ,'\\n', W )\n",
    "    return W, cost_history"
   ]
  },
  {
   "cell_type": "code",
   "execution_count": 43,
   "metadata": {},
   "outputs": [
    {
     "name": "stdout",
     "output_type": "stream",
     "text": [
      "The SVM model found the largest margin after 150 epochs at W:  \n",
      " [[ 0.00308208]\n",
      " [-0.00321723]\n",
      " [ 0.00270056]\n",
      " [-0.00422838]\n",
      " [-0.00405447]]\n",
      "The SVM model found the largest margin after 150 epochs at W:  \n",
      " [[ 0.00342044]\n",
      " [ 0.0002394 ]\n",
      " [-0.00215184]\n",
      " [ 0.00081608]\n",
      " [ 0.0003548 ]]\n",
      "The SVM model found the largest margin after 150 epochs at W:  \n",
      " [[ 0.00349922]\n",
      " [ 0.00297932]\n",
      " [-0.00055731]\n",
      " [ 0.00341439]\n",
      " [ 0.00369688]]\n"
     ]
    }
   ],
   "source": [
    "strategy = ['BGD', 'SGD'][1]\n",
    "if strategy == 'BGD':\n",
    "    W_final1, cost_history1 = BatchGradientDescent(X_train_norm, Y_train1, C = 0.1, max_iters = 30000)\n",
    "    W_final2, cost_history2 = BatchGradientDescent(X_train_norm, Y_train2, C = 0.1, max_iters = 30000)\n",
    "    W_final3, cost_history3 = BatchGradientDescent(X_train_norm, Y_train3, C = 0.1, max_iters = 30000)\n",
    "elif strategy == 'SGD':\n",
    "    W_final1, cost_history1 = StochasticGradientDescent(X_train_norm, Y_train1, C = 0.01, epochs = 150)\n",
    "    W_final2, cost_history2 = StochasticGradientDescent(X_train_norm, Y_train2, C = 0.01, epochs = 150)\n",
    "    W_final3, cost_history3 = StochasticGradientDescent(X_train_norm, Y_train3, C = 0.01, epochs = 150)\n"
   ]
  },
  {
   "cell_type": "code",
   "execution_count": 44,
   "metadata": {},
   "outputs": [
    {
     "data": {
      "image/png": "[encoded data removed]",
      "text/plain": [
       "<Figure size 432x288 with 1 Axes>"
      ]
     },
     "metadata": {
      "needs_background": "light"
     },
     "output_type": "display_data"
    }
   ],
   "source": [
    "# Plot for the Iris Setosa class\n",
    "plt.plot(np.arange(len(cost_history1)), np.array(cost_history1).flatten(), label = 'Iris Setosa')\n",
    "# Plot for the Iris Versicolor class\n",
    "plt.plot(np.arange(len(cost_history2)), np.array(cost_history2).flatten(), label = 'Iris Versicolor')\n",
    "# Plot for the Iris Virginica class\n",
    "plt.plot(np.arange(len(cost_history3)), np.array(cost_history3).flatten(), label = 'Iris Virginica')\n",
    "\n",
    "plt.xlabel('Iterations')\n",
    "plt.ylabel('Cost')\n",
    "plt.title('{} Cost Function vs Iterations'.format(strategy),fontsize=20,fontstyle='italic')\n",
    "plt.legend()\n",
    "plt.savefig('{}_CostVsIterations.png'.format(strategy), dpi = 300)\n",
    "plt.show()"
   ]
  },
  {
   "cell_type": "code",
   "execution_count": 45,
   "metadata": {},
   "outputs": [
    {
     "name": "stdout",
     "output_type": "stream",
     "text": [
      "INDIVIDUAL CLASS PERFORMANCE \n",
      "\n",
      "Iris Setosa\n",
      "\t Accuracy:  0.8666666666666667\n",
      "\t Precision:  0.7647058823529411\n",
      "\t Recall:  1.0\n",
      "\t F1-Score:  0.8666666666666667\n",
      "\t Confusion Matrix:  \n",
      "\t [[13, 4], [0, 13]]\n",
      "Iris Versicolor\n",
      "\t Accuracy:  0.6\n",
      "\t Precision:  0.42857142857142855\n",
      "\t Recall:  1.0\n",
      "\t F1-Score:  0.6\n",
      "\t Confusion Matrix:  \n",
      "\t [[9, 12], [0, 9]]\n",
      "Iris Virginica\n",
      "\t Accuracy:  0.7\n",
      "\t Precision:  0.47058823529411764\n",
      "\t Recall:  1.0\n",
      "\t F1-Score:  0.64\n",
      "\t Confusion Matrix:  \n",
      "\t [[13, 9], [0, 8]]\n"
     ]
    }
   ],
   "source": [
    "def ClassPerformanceMetrics(Y, Y_predicted):\n",
    "    Y = Y.flatten().tolist()\n",
    "    Y_predicted = Y_predicted.flatten().tolist()\n",
    "    TN = 0\n",
    "    FP = 0\n",
    "    FN = 0\n",
    "    TP = 0\n",
    "    \n",
    "    for item1,item2 in zip(Y,Y_predicted):\n",
    "        if item1 == item2:\n",
    "            if item1 == 0:\n",
    "                TN += 1\n",
    "            else:\n",
    "                TP += 1\n",
    "        elif item1 == 1 and item2 == 0:\n",
    "            FN += 1\n",
    "        elif item1 == 0 and item2 == 1:\n",
    "            FP += 1\n",
    "    \n",
    "    accuracy = (TP + TN)/(TP + FN + TN + FP)\n",
    "    confusion_matrix = np.array([[TN, FP], [FN, TP]])\n",
    "    precision = TP/(TP + FP)\n",
    "    recall = TP/(TP + FN)\n",
    "    f1_score = TP/(TP + (FP + FN)/2)\n",
    "    return accuracy, confusion_matrix, precision, recall, f1_score\n",
    "\n",
    "def DisplayMetrics(category, metrics):\n",
    "    print(category)\n",
    "    print('\\t','Accuracy: ', metrics[0])\n",
    "    print('\\t','Precision: ', metrics[2])\n",
    "    print('\\t','Recall: ', metrics[3])\n",
    "    print('\\t','F1-Score: ', metrics[4])\n",
    "    print('\\t','Confusion Matrix: ', '\\n\\t', metrics[1].tolist())\n",
    "Y_test1_predictions = SVMPrediction(X_test_norm, W_final1)\n",
    "Y_test2_predictions = SVMPrediction(X_test_norm, W_final2)\n",
    "Y_test3_predictions = SVMPrediction(X_test_norm, W_final3)\n",
    "\n",
    "print('Individual Class Performance'.upper(), '\\n')\n",
    "categories = ['Iris Setosa', 'Iris Versicolor', 'Iris Virginica']\n",
    "DisplayMetrics(categories[0], tuple(ClassPerformanceMetrics(Y_test1, Y_test1_predictions)))\n",
    "DisplayMetrics(categories[1], tuple(ClassPerformanceMetrics(Y_test2, Y_test2_predictions)))\n",
    "DisplayMetrics(categories[2], tuple(ClassPerformanceMetrics(Y_test3, Y_test3_predictions)))\n"
   ]
  },
  {
   "cell_type": "code",
   "execution_count": 46,
   "metadata": {},
   "outputs": [
    {
     "name": "stdout",
     "output_type": "stream",
     "text": [
      "(30, 1)\n",
      "(30, 1)\n",
      "(30, 1)\n"
     ]
    }
   ],
   "source": [
    "def Sigmoid(x):\n",
    "    return 1/(1 + np.exp(-x))\n",
    "\n",
    "Y_test_prob1 = Sigmoid(X_test_norm.dot(W_final1))\n",
    "Y_test_prob2 = Sigmoid(X_test_norm.dot(W_final2))\n",
    "Y_test_prob3 = Sigmoid(X_test_norm.dot(W_final3))\n",
    "\n",
    "print(Y_test_prob1.shape)\n",
    "print(Y_test_prob2.shape)\n",
    "print(Y_test_prob3.shape)"
   ]
  },
  {
   "cell_type": "code",
   "execution_count": 47,
   "metadata": {},
   "outputs": [
    {
     "name": "stdout",
     "output_type": "stream",
     "text": [
      "MULTIPLE CLASS PERFORMANCE \n",
      "\n",
      "Multiclass Classification Accuracy:  83.33333333333334 %\n",
      "Multiclass Classification Confusion Matrix:  \n",
      " [[13.  0.  0.]\n",
      " [ 0.  4.  5.]\n",
      " [ 0.  0.  8.]]\n"
     ]
    }
   ],
   "source": [
    "def ModelPerformanceMetrics(Y, Y0, Y1, Y2):\n",
    "    correct = 0\n",
    "    total = 0\n",
    "    cm = np.zeros((3,3))\n",
    "    Y_predicted = np.zeros(Y.shape)\n",
    "    i = 0\n",
    "    for y0,y1,y2 in zip(Y0,Y1,Y2):\n",
    "        if y0 == max(y0,y1,y2):\n",
    "            Y_predicted[i] = 0\n",
    "        elif y1 == max(y0,y1,y2):\n",
    "            Y_predicted[i] = 1\n",
    "        elif y2 == max(y0,y1,y2):\n",
    "            Y_predicted[i] = 2\n",
    "\n",
    "        i += 1\n",
    "        \n",
    "    for y,yp in zip(Y,Y_predicted):\n",
    "        if y == yp:\n",
    "            correct += 1\n",
    "            cm[y,y] += 1\n",
    "        else:\n",
    "            cm[y,int(yp)] += 1            \n",
    "        total += 1    \n",
    "    \n",
    "    \n",
    "    accuracy = correct/total\n",
    "    return accuracy, cm\n",
    "            \n",
    "    \n",
    "\n",
    "Y_test = Y[shuffled_indices[train_set_size:]]\n",
    "accuracy, cm = ModelPerformanceMetrics(Y_test,Y_test_prob1,Y_test_prob2,Y_test_prob3)\n",
    "\n",
    "print('Multiple Class Performance'.upper(), '\\n')\n",
    "print('Multiclass Classification Accuracy: ', '{} %'.format(accuracy*100))\n",
    "print('Multiclass Classification Confusion Matrix: ', '\\n', cm)"
   ]
  },
  {
   "cell_type": "markdown",
   "metadata": {},
   "source": [
    "### SVM with a Gaussian RBF Kernel"
   ]
  },
  {
   "cell_type": "code",
   "execution_count": 48,
   "metadata": {},
   "outputs": [
    {
     "name": "stdout",
     "output_type": "stream",
     "text": [
      "Testing the Gaussian RBF Kernel Function... \n",
      " 1.0 \n",
      "\n",
      "Testing the Gaussian RBF Features Function... \n",
      " [[1.00000000e+00 7.48263568e-01 7.71051586e-01 ... 2.30082059e-09\n",
      "  4.03840951e-10 3.59908895e-08]\n",
      " [7.48263568e-01 1.00000000e+00 9.13931185e-01 ... 1.62136087e-09\n",
      "  2.15082380e-10 3.22418674e-08]\n",
      " [7.71051586e-01 9.13931185e-01 1.00000000e+00 ... 3.65410404e-10\n",
      "  6.16221335e-11 9.42405852e-09]\n",
      " ...\n",
      " [2.30082059e-09 1.62136087e-09 3.65410404e-10 ... 1.00000000e+00\n",
      "  6.83861409e-01 6.63650250e-01]\n",
      " [4.03840951e-10 2.15082380e-10 6.16221335e-11 ... 6.83861409e-01\n",
      "  1.00000000e+00 5.54327285e-01]\n",
      " [3.59908895e-08 3.22418674e-08 9.42405852e-09 ... 6.63650250e-01\n",
      "  5.54327285e-01 1.00000000e+00]]\n"
     ]
    }
   ],
   "source": [
    "def GaussianRBFKernel(x,l,gamma):\n",
    "    return np.exp(-gamma*np.dot(np.subtract(x,l).T,np.subtract(x,l)))\n",
    "\n",
    "def GaussianRBFFeatures(X,L,gamma):\n",
    "    X_rbf = np.zeros((X.shape[0],L.shape[0]))\n",
    "    for i in range(X.shape[0]):\n",
    "        for j in range(L.shape[0]):\n",
    "            X_rbf[i,j] = GaussianRBFKernel(X[i,:],L[j,:],gamma)\n",
    "    return X_rbf\n",
    "\n",
    "\n",
    "print('Testing the Gaussian RBF Kernel Function...', '\\n', GaussianRBFKernel(X[0], X[0], .1), '\\n')\n",
    "print('Testing the Gaussian RBF Features Function...', '\\n', GaussianRBFFeatures(X, X, 1))"
   ]
  },
  {
   "cell_type": "code",
   "execution_count": 49,
   "metadata": {},
   "outputs": [
    {
     "name": "stdout",
     "output_type": "stream",
     "text": [
      "(120, 150) (30, 150)\n"
     ]
    }
   ],
   "source": [
    "X_rbf = GaussianRBFFeatures(X, X, 0.1)\n",
    "#shuffled = np.random.permutation(X_rbf.shape[0])\n",
    "X_train_rbf = X_rbf[shuffled_indices[:train_set_size]]\n",
    "X_train_rbf, mu_rbf, sigma_rbf = Normalize_FitTransform(X_train_rbf)\n",
    "\n",
    "X_test_rbf = X_rbf[shuffled_indices[train_set_size:]]\n",
    "X_test_rbf = Normalize_Transform(X_test_rbf, mu_rbf, sigma_rbf)\n",
    "print(X_train_rbf.shape, X_test_rbf.shape)"
   ]
  },
  {
   "cell_type": "code",
   "execution_count": 50,
   "metadata": {},
   "outputs": [
    {
     "name": "stdout",
     "output_type": "stream",
     "text": [
      "The SVM model found the largest margin after 150 epochs at W:  \n",
      " [[ 4.33317995e-05]\n",
      " [ 4.27633312e-05]\n",
      " [ 4.33876704e-05]\n",
      " [ 4.26834531e-05]\n",
      " [ 4.34821955e-05]\n",
      " [ 4.22725108e-05]\n",
      " [ 4.32933627e-05]\n",
      " [ 4.29685734e-05]\n",
      " [ 4.27061584e-05]\n",
      " [ 4.27167918e-05]\n",
      " [ 4.30477818e-05]\n",
      " [ 4.27349950e-05]\n",
      " [ 4.29166001e-05]\n",
      " [ 4.36973131e-05]\n",
      " [ 4.36766761e-05]\n",
      " [ 4.29742415e-05]\n",
      " [ 4.35403114e-05]\n",
      " [ 4.32205821e-05]\n",
      " [ 4.19709241e-05]\n",
      " [ 4.32374957e-05]\n",
      " [ 4.19324436e-05]\n",
      " [ 4.30178070e-05]\n",
      " [ 4.44009420e-05]\n",
      " [ 4.14833344e-05]\n",
      " [ 4.15090670e-05]\n",
      " [ 4.19796298e-05]\n",
      " [ 4.23406047e-05]\n",
      " [ 4.29781385e-05]\n",
      " [ 4.31690202e-05]\n",
      " [ 4.24692731e-05]\n",
      " [ 4.22591576e-05]\n",
      " [ 4.24334454e-05]\n",
      " [ 4.36071010e-05]\n",
      " [ 4.35667391e-05]\n",
      " [ 4.25832614e-05]\n",
      " [ 4.35632002e-05]\n",
      " [ 4.33673238e-05]\n",
      " [ 4.36232812e-05]\n",
      " [ 4.31484222e-05]\n",
      " [ 4.29156730e-05]\n",
      " [ 4.35381094e-05]\n",
      " [ 4.17538671e-05]\n",
      " [ 4.34260426e-05]\n",
      " [ 4.21784304e-05]\n",
      " [ 4.15638657e-05]\n",
      " [ 4.26670685e-05]\n",
      " [ 4.30554190e-05]\n",
      " [ 4.31379949e-05]\n",
      " [ 4.31232479e-05]\n",
      " [ 4.31465234e-05]\n",
      " [-4.32859534e-05]\n",
      " [-4.27691934e-05]\n",
      " [-4.35814809e-05]\n",
      " [-3.23746236e-05]\n",
      " [-4.34132763e-05]\n",
      " [-4.02783042e-05]\n",
      " [-4.32977416e-05]\n",
      " [ 1.32711423e-06]\n",
      " [-4.31971100e-05]\n",
      " [-2.77544732e-05]\n",
      " [-9.82014154e-06]\n",
      " [-3.92881090e-05]\n",
      " [-3.42253185e-05]\n",
      " [-4.29784437e-05]\n",
      " [-2.21736883e-05]\n",
      " [-4.26516170e-05]\n",
      " [-4.05293202e-05]\n",
      " [-3.41558755e-05]\n",
      " [-4.25073140e-05]\n",
      " [-2.92101663e-05]\n",
      " [-4.32815240e-05]\n",
      " [-3.69625164e-05]\n",
      " [-4.39237568e-05]\n",
      " [-4.26142644e-05]\n",
      " [-4.14089478e-05]\n",
      " [-4.25964725e-05]\n",
      " [-4.37774322e-05]\n",
      " [-4.37877747e-05]\n",
      " [-4.20313318e-05]\n",
      " [-1.64924548e-05]\n",
      " [-2.57011679e-05]\n",
      " [-2.14772606e-05]\n",
      " [-3.20182006e-05]\n",
      " [-4.39597850e-05]\n",
      " [-3.95533491e-05]\n",
      " [-4.20227684e-05]\n",
      " [-4.35358371e-05]\n",
      " [-4.17679205e-05]\n",
      " [-3.46676683e-05]\n",
      " [-3.22867147e-05]\n",
      " [-3.76975972e-05]\n",
      " [-4.25443486e-05]\n",
      " [-3.40603083e-05]\n",
      " [-6.50844363e-07]\n",
      " [-3.63891172e-05]\n",
      " [-3.63353816e-05]\n",
      " [-3.70373896e-05]\n",
      " [-4.07433040e-05]\n",
      " [ 9.65733031e-06]\n",
      " [-3.56065887e-05]\n",
      " [-4.13858350e-05]\n",
      " [-4.38389502e-05]\n",
      " [-4.10032076e-05]\n",
      " [-4.35784079e-05]\n",
      " [-4.23516882e-05]\n",
      " [-3.71088717e-05]\n",
      " [-3.73592799e-05]\n",
      " [-3.97170363e-05]\n",
      " [-4.29254248e-05]\n",
      " [-3.87948432e-05]\n",
      " [-4.35698864e-05]\n",
      " [-4.39091880e-05]\n",
      " [-4.26705514e-05]\n",
      " [-4.36383933e-05]\n",
      " [-4.36851408e-05]\n",
      " [-4.31480734e-05]\n",
      " [-4.34443764e-05]\n",
      " [-3.54737516e-05]\n",
      " [-3.55365781e-05]\n",
      " [-4.37287759e-05]\n",
      " [-4.15103034e-05]\n",
      " [-4.32632119e-05]\n",
      " [-3.67048496e-05]\n",
      " [-4.40109428e-05]\n",
      " [-4.20968014e-05]\n",
      " [-4.06979473e-05]\n",
      " [-4.38021755e-05]\n",
      " [-4.37723526e-05]\n",
      " [-4.32236870e-05]\n",
      " [-4.17335011e-05]\n",
      " [-4.00540580e-05]\n",
      " [-3.62684892e-05]\n",
      " [-4.31005002e-05]\n",
      " [-4.40556055e-05]\n",
      " [-4.41051109e-05]\n",
      " [-3.83469079e-05]\n",
      " [-4.23911178e-05]\n",
      " [-4.34736224e-05]\n",
      " [-4.35152200e-05]\n",
      " [-4.26054928e-05]\n",
      " [-4.21000494e-05]\n",
      " [-4.29143557e-05]\n",
      " [-4.38389502e-05]\n",
      " [-4.11694788e-05]\n",
      " [-4.14772125e-05]\n",
      " [-4.31408507e-05]\n",
      " [-4.41298897e-05]\n",
      " [-4.36533841e-05]\n",
      " [-4.29861922e-05]\n",
      " [-4.38181879e-05]]\n",
      "The SVM model found the largest margin after 150 epochs at W:  \n",
      " [[-1.04917407e-05]\n",
      " [-9.60543032e-06]\n",
      " [-1.11419481e-05]\n",
      " [-9.67137165e-06]\n",
      " [-1.09031691e-05]\n",
      " [-7.98079987e-06]\n",
      " [-1.08639503e-05]\n",
      " [-9.69818800e-06]\n",
      " [-1.02348353e-05]\n",
      " [-9.38336488e-06]\n",
      " [-9.67816550e-06]\n",
      " [-9.31822004e-06]\n",
      " [-1.00578078e-05]\n",
      " [-1.26799832e-05]\n",
      " [-1.16922649e-05]\n",
      " [-1.02567397e-05]\n",
      " [-1.10735596e-05]\n",
      " [-1.02339876e-05]\n",
      " [-7.26032291e-06]\n",
      " [-1.02458592e-05]\n",
      " [-7.11504452e-06]\n",
      " [-9.72887216e-06]\n",
      " [-1.37654209e-05]\n",
      " [-6.51098832e-06]\n",
      " [-6.70424192e-06]\n",
      " [-7.76240455e-06]\n",
      " [-8.31032150e-06]\n",
      " [-9.56498514e-06]\n",
      " [-1.00625024e-05]\n",
      " [-8.97472830e-06]\n",
      " [-8.49065729e-06]\n",
      " [-8.27623873e-06]\n",
      " [-1.12519219e-05]\n",
      " [-1.13597207e-05]\n",
      " [-9.09863368e-06]\n",
      " [-1.13128363e-05]\n",
      " [-1.04642352e-05]\n",
      " [-1.13102121e-05]\n",
      " [-1.11452794e-05]\n",
      " [-9.50275210e-06]\n",
      " [-1.11009278e-05]\n",
      " [-8.95864982e-06]\n",
      " [-1.15962182e-05]\n",
      " [-7.97771743e-06]\n",
      " [-6.53047124e-06]\n",
      " [-9.51723036e-06]\n",
      " [-9.77087017e-06]\n",
      " [-1.06362359e-05]\n",
      " [-9.87820093e-06]\n",
      " [-1.01847249e-05]\n",
      " [ 2.17791436e-05]\n",
      " [ 2.64116474e-05]\n",
      " [ 1.98249778e-05]\n",
      " [ 3.62531498e-05]\n",
      " [ 2.55001722e-05]\n",
      " [ 3.13393516e-05]\n",
      " [ 2.38677946e-05]\n",
      " [ 2.96307621e-05]\n",
      " [ 2.61449308e-05]\n",
      " [ 3.63074070e-05]\n",
      " [ 3.39480929e-05]\n",
      " [ 3.22990293e-05]\n",
      " [ 3.70834904e-05]\n",
      " [ 2.68136135e-05]\n",
      " [ 3.77563743e-05]\n",
      " [ 2.68336814e-05]\n",
      " [ 3.01853148e-05]\n",
      " [ 3.67242849e-05]\n",
      " [ 2.87206484e-05]\n",
      " [ 3.76603099e-05]\n",
      " [ 2.35212928e-05]\n",
      " [ 3.51544377e-05]\n",
      " [ 2.37508866e-05]\n",
      " [ 2.82584655e-05]\n",
      " [ 3.05134981e-05]\n",
      " [ 2.75367652e-05]\n",
      " [ 2.25099780e-05]\n",
      " [ 1.87874523e-05]\n",
      " [ 2.87561255e-05]\n",
      " [ 3.78955078e-05]\n",
      " [ 3.77923918e-05]\n",
      " [ 3.79158595e-05]\n",
      " [ 3.72522800e-05]\n",
      " [ 2.21397468e-05]\n",
      " [ 3.08291611e-05]\n",
      " [ 2.72808475e-05]\n",
      " [ 2.29002514e-05]\n",
      " [ 3.05183051e-05]\n",
      " [ 3.53842917e-05]\n",
      " [ 3.63156022e-05]\n",
      " [ 3.36260770e-05]\n",
      " [ 2.77503833e-05]\n",
      " [ 3.65124808e-05]\n",
      " [ 3.07463960e-05]\n",
      " [ 3.46242928e-05]\n",
      " [ 3.48395865e-05]\n",
      " [ 3.42987717e-05]\n",
      " [ 3.14398750e-05]\n",
      " [ 2.55606192e-05]\n",
      " [ 3.52771289e-05]\n",
      " [ 6.93356448e-06]\n",
      " [ 2.11373252e-05]\n",
      " [ 6.98596979e-06]\n",
      " [ 1.45454609e-05]\n",
      " [ 9.67915498e-06]\n",
      " [ 3.11373078e-07]\n",
      " [ 3.10913649e-05]\n",
      " [ 4.67849305e-06]\n",
      " [ 1.16584064e-05]\n",
      " [ 2.65089382e-06]\n",
      " [ 1.66035138e-05]\n",
      " [ 1.66290012e-05]\n",
      " [ 1.14819934e-05]\n",
      " [ 2.22008736e-05]\n",
      " [ 1.79257462e-05]\n",
      " [ 1.34943380e-05]\n",
      " [ 1.44144981e-05]\n",
      " [-1.62664746e-06]\n",
      " [-2.10969269e-06]\n",
      " [ 2.44514484e-05]\n",
      " [ 8.09696240e-06]\n",
      " [ 2.31208892e-05]\n",
      " [-6.62327556e-08]\n",
      " [ 2.15681193e-05]\n",
      " [ 9.74569621e-06]\n",
      " [ 6.94936172e-06]\n",
      " [ 2.28730854e-05]\n",
      " [ 2.19654458e-05]\n",
      " [ 1.26262697e-05]\n",
      " [ 9.80246110e-06]\n",
      " [ 5.47253089e-06]\n",
      " [ 2.45889051e-07]\n",
      " [ 1.20856017e-05]\n",
      " [ 2.12486097e-05]\n",
      " [ 1.81699433e-05]\n",
      " [ 2.47238359e-06]\n",
      " [ 1.04645079e-05]\n",
      " [ 1.46862429e-05]\n",
      " [ 2.34310323e-05]\n",
      " [ 1.17516419e-05]\n",
      " [ 9.34472976e-06]\n",
      " [ 1.32764503e-05]\n",
      " [ 2.11373252e-05]\n",
      " [ 6.92137066e-06]\n",
      " [ 7.74691094e-06]\n",
      " [ 1.34378819e-05]\n",
      " [ 2.02809830e-05]\n",
      " [ 1.60276857e-05]\n",
      " [ 1.31047433e-05]\n",
      " [ 2.08438341e-05]]\n",
      "The SVM model found the largest margin after 150 epochs at W:  \n",
      " [[-3.29134089e-05]\n",
      " [-3.32332229e-05]\n",
      " [-3.23199447e-05]\n",
      " [-3.30867151e-05]\n",
      " [-3.26517939e-05]\n",
      " [-3.43630433e-05]\n",
      " [-3.25025885e-05]\n",
      " [-3.33442193e-05]\n",
      " [-3.25463810e-05]\n",
      " [-3.34086571e-05]\n",
      " [-3.34423517e-05]\n",
      " [-3.34904602e-05]\n",
      " [-3.29341919e-05]\n",
      " [-3.10920489e-05]\n",
      " [-3.20551935e-05]\n",
      " [-3.27856638e-05]\n",
      " [-3.25376560e-05]\n",
      " [-3.30597388e-05]\n",
      " [-3.47832030e-05]\n",
      " [-3.30633270e-05]\n",
      " [-3.48920150e-05]\n",
      " [-3.33609366e-05]\n",
      " [-3.07077461e-05]\n",
      " [-3.50461726e-05]\n",
      " [-3.48785349e-05]\n",
      " [-3.42928607e-05]\n",
      " [-3.41037327e-05]\n",
      " [-3.34867307e-05]\n",
      " [-3.31804666e-05]\n",
      " [-3.35689530e-05]\n",
      " [-3.38434323e-05]\n",
      " [-3.42311407e-05]\n",
      " [-3.24256591e-05]\n",
      " [-3.22767013e-05]\n",
      " [-3.35596408e-05]\n",
      " [-3.23247585e-05]\n",
      " [-3.29767129e-05]\n",
      " [-3.23859673e-05]\n",
      " [-3.20778381e-05]\n",
      " [-3.34868721e-05]\n",
      " [-3.25101274e-05]\n",
      " [-3.28717227e-05]\n",
      " [-3.19038147e-05]\n",
      " [-3.42731842e-05]\n",
      " [-3.51049663e-05]\n",
      " [-3.32248091e-05]\n",
      " [-3.33565470e-05]\n",
      " [-3.25759629e-05]\n",
      " [-3.33176754e-05]\n",
      " [-3.30359894e-05]\n",
      " [ 2.15641888e-05]\n",
      " [ 1.64126755e-05]\n",
      " [ 2.38186056e-05]\n",
      " [-3.85320734e-06]\n",
      " [ 1.79697388e-05]\n",
      " [ 8.98823629e-06]\n",
      " [ 1.94907959e-05]\n",
      " [-3.09919331e-05]\n",
      " [ 1.71071277e-05]\n",
      " [-8.53380437e-06]\n",
      " [-2.41461886e-05]\n",
      " [ 7.03300758e-06]\n",
      " [-2.83375898e-06]\n",
      " [ 1.62229054e-05]\n",
      " [-1.55788302e-05]\n",
      " [ 1.58691533e-05]\n",
      " [ 1.03961320e-05]\n",
      " [-2.54021206e-06]\n",
      " [ 1.38387771e-05]\n",
      " [-8.43314078e-06]\n",
      " [ 1.98244272e-05]\n",
      " [ 1.84111995e-06]\n",
      " [ 2.02354902e-05]\n",
      " [ 1.44115535e-05]\n",
      " [ 1.09418339e-05]\n",
      " [ 1.51107660e-05]\n",
      " [ 2.13271707e-05]\n",
      " [ 2.50659165e-05]\n",
      " [ 1.33288351e-05]\n",
      " [-2.14137027e-05]\n",
      " [-1.20815842e-05]\n",
      " [-1.64380723e-05]\n",
      " [-5.21161563e-06]\n",
      " [ 2.18876369e-05]\n",
      " [ 8.77494716e-06]\n",
      " [ 1.47982715e-05]\n",
      " [ 2.06946103e-05]\n",
      " [ 1.12971431e-05]\n",
      " [-6.83216870e-07]\n",
      " [-4.00308158e-06]\n",
      " [ 4.11332665e-06]\n",
      " [ 1.48497982e-05]\n",
      " [-2.42473371e-06]\n",
      " [-3.01278371e-05]\n",
      " [ 1.80167256e-06]\n",
      " [ 1.53278702e-06]\n",
      " [ 2.77716375e-06]\n",
      " [ 9.34911070e-06]\n",
      " [-3.52649091e-05]\n",
      " [ 3.63273567e-07]\n",
      " [ 3.45329399e-05]\n",
      " [ 2.27707807e-05]\n",
      " [ 3.40923333e-05]\n",
      " [ 2.91090113e-05]\n",
      " [ 3.27505974e-05]\n",
      " [ 3.68730219e-05]\n",
      " [ 6.31452915e-06]\n",
      " [ 3.51154751e-05]\n",
      " [ 3.13440135e-05]\n",
      " [ 3.62182001e-05]\n",
      " [ 2.70355937e-05]\n",
      " [ 2.73520133e-05]\n",
      " [ 3.12616630e-05]\n",
      " [ 2.15046992e-05]\n",
      " [ 2.58309074e-05]\n",
      " [ 2.97267653e-05]\n",
      " [ 2.91038830e-05]\n",
      " [ 3.71723846e-05]\n",
      " [ 3.77232337e-05]\n",
      " [ 1.93410038e-05]\n",
      " [ 3.34878074e-05]\n",
      " [ 2.02081970e-05]\n",
      " [ 3.68468739e-05]\n",
      " [ 2.25077956e-05]\n",
      " [ 3.24266297e-05]\n",
      " [ 3.38232115e-05]\n",
      " [ 2.09923930e-05]\n",
      " [ 2.18725891e-05]\n",
      " [ 3.06737330e-05]\n",
      " [ 3.20039522e-05]\n",
      " [ 3.46562838e-05]\n",
      " [ 3.60911920e-05]\n",
      " [ 3.10913665e-05]\n",
      " [ 2.28740596e-05]\n",
      " [ 2.60101895e-05]\n",
      " [ 3.59459324e-05]\n",
      " [ 3.20034809e-05]\n",
      " [ 2.88617964e-05]\n",
      " [ 2.01479218e-05]\n",
      " [ 3.09251445e-05]\n",
      " [ 3.28302877e-05]\n",
      " [ 2.97060417e-05]\n",
      " [ 2.27707807e-05]\n",
      " [ 3.43250476e-05]\n",
      " [ 3.38060023e-05]\n",
      " [ 2.97734300e-05]\n",
      " [ 2.39158976e-05]\n",
      " [ 2.76962440e-05]\n",
      " [ 2.99564848e-05]\n",
      " [ 2.30437020e-05]]\n"
     ]
    }
   ],
   "source": [
    "strategy_rbf = ['BGD', 'SGD'][1]\n",
    "if strategy_rbf == 'BGD':\n",
    "    W_final_rbf1, cost_history_rbf1 = BatchGradientDescent(X_train_rbf, Y_train1, C = 0.1, max_iters = 30000)\n",
    "    W_final_rbf2, cost_history_rbf2 = BatchGradientDescent(X_train_rbf, Y_train2, C = 0.1, max_iters = 30000)\n",
    "    W_final_rbf3, cost_history_rbf3 = BatchGradientDescent(X_train_rbf, Y_train3, C = 0.1, max_iters = 30000)\n",
    "elif strategy_rbf == 'SGD':\n",
    "    W_final_rbf1, cost_history_rbf1 = StochasticGradientDescent(X_train_rbf, Y_train1, C = 0.0001, epochs = 150)\n",
    "    W_final_rbf2, cost_history_rbf2 = StochasticGradientDescent(X_train_rbf, Y_train2, C = 0.0001, epochs = 150)\n",
    "    W_final_rbf3, cost_history_rbf3 = StochasticGradientDescent(X_train_rbf, Y_train3, C = 0.0001, epochs = 150)\n",
    "\n"
   ]
  },
  {
   "cell_type": "code",
   "execution_count": 51,
   "metadata": {},
   "outputs": [
    {
     "name": "stdout",
     "output_type": "stream",
     "text": [
      "INDIVIDUAL CLASS PERFORMANCE WITH A GAUSSIAN RBF KERNEL \n",
      "\n",
      "Iris Setosa\n",
      "\t Accuracy:  1.0\n",
      "\t Precision:  1.0\n",
      "\t Recall:  1.0\n",
      "\t F1-Score:  1.0\n",
      "\t Confusion Matrix:  \n",
      "\t [[17, 0], [0, 13]]\n",
      "Iris Versicolor\n",
      "\t Accuracy:  0.7666666666666667\n",
      "\t Precision:  0.5625\n",
      "\t Recall:  1.0\n",
      "\t F1-Score:  0.72\n",
      "\t Confusion Matrix:  \n",
      "\t [[14, 7], [0, 9]]\n",
      "Iris Virginica\n",
      "\t Accuracy:  0.7\n",
      "\t Precision:  0.47058823529411764\n",
      "\t Recall:  1.0\n",
      "\t F1-Score:  0.64\n",
      "\t Confusion Matrix:  \n",
      "\t [[13, 9], [0, 8]]\n"
     ]
    }
   ],
   "source": [
    "Y_test1_predictions_rbf = SVMPrediction(X_test_rbf, W_final_rbf1)\n",
    "Y_test2_predictions_rbf = SVMPrediction(X_test_rbf, W_final_rbf2)\n",
    "Y_test3_predictions_rbf = SVMPrediction(X_test_rbf, W_final_rbf3)\n",
    "\n",
    "print('Individual Class Performance with a Gaussian RBF Kernel'.upper(), '\\n')\n",
    "categories = ['Iris Setosa', 'Iris Versicolor', 'Iris Virginica']\n",
    "DisplayMetrics(categories[0], tuple(ClassPerformanceMetrics(Y_test1, Y_test1_predictions_rbf)))\n",
    "DisplayMetrics(categories[1], tuple(ClassPerformanceMetrics(Y_test2, Y_test2_predictions_rbf)))\n",
    "DisplayMetrics(categories[2], tuple(ClassPerformanceMetrics(Y_test3, Y_test3_predictions_rbf)))"
   ]
  },
  {
   "cell_type": "code",
   "execution_count": 52,
   "metadata": {},
   "outputs": [
    {
     "name": "stdout",
     "output_type": "stream",
     "text": [
      "(30, 1)\n",
      "(30, 1)\n",
      "(30, 1)\n"
     ]
    }
   ],
   "source": [
    "Y_test_prob1_rbf = Sigmoid(X_test_rbf.dot(W_final_rbf1))\n",
    "Y_test_prob2_rbf = Sigmoid(X_test_rbf.dot(W_final_rbf2))\n",
    "Y_test_prob3_rbf = Sigmoid(X_test_rbf.dot(W_final_rbf3))\n",
    "\n",
    "print(Y_test_prob1_rbf.shape)\n",
    "print(Y_test_prob2_rbf.shape)\n",
    "print(Y_test_prob3_rbf.shape)"
   ]
  },
  {
   "cell_type": "code",
   "execution_count": 53,
   "metadata": {},
   "outputs": [
    {
     "name": "stdout",
     "output_type": "stream",
     "text": [
      "MULTIPLE CLASS PERFORMANCE \n",
      "\n",
      "Multiclass Classification Accuracy:  96.66666666666667 %\n",
      "Multiclass Classification Confusion Matrix:  \n",
      " [[13.  0.  0.]\n",
      " [ 0.  8.  1.]\n",
      " [ 0.  0.  8.]]\n"
     ]
    }
   ],
   "source": [
    "accuracy_rbf, cm_rbf = ModelPerformanceMetrics(Y_test,Y_test_prob1_rbf,Y_test_prob2_rbf,Y_test_prob3_rbf)\n",
    "\n",
    "print('Multiple Class Performance'.upper(), '\\n')\n",
    "print('Multiclass Classification Accuracy: ', '{} %'.format(accuracy_rbf*100))\n",
    "print('Multiclass Classification Confusion Matrix: ', '\\n', cm_rbf)"
   ]
  },
  {
   "cell_type": "markdown",
   "metadata": {},
   "source": [
    "### Inference"
   ]
  },
  {
   "cell_type": "code",
   "execution_count": 35,
   "metadata": {},
   "outputs": [
    {
     "data": {
      "text/plain": [
       "'\\nThe Gaussian RBF Kernel SVM performed significantly better than the Linear Kernel SVM, both in binary classification and \\nmulticlass classification\\n'"
      ]
     },
     "execution_count": 35,
     "metadata": {},
     "output_type": "execute_result"
    }
   ],
   "source": [
    "'''\n",
    "The Gaussian RBF Kernel SVM performed significantly better than the Linear Kernel SVM, both in binary classification and \n",
    "multiclass classification\n",
    "'''"
   ]
  },
  {
   "cell_type": "code",
   "execution_count": 36,
   "metadata": {},
   "outputs": [
    {
     "data": {
      "text/plain": [
       "'\\n!pip install cvxopt\\n\\nfrom cvxopt import matrix as cvxopt_matrix\\nfrom cvxopt import solvers as cvxopt_solvers\\n'"
      ]
     },
     "execution_count": 36,
     "metadata": {},
     "output_type": "execute_result"
    }
   ],
   "source": [
    "'''\n",
    "!pip install cvxopt\n",
    "\n",
    "from cvxopt import matrix as cvxopt_matrix\n",
    "from cvxopt import solvers as cvxopt_solvers\n",
    "'''"
   ]
  },
  {
   "cell_type": "code",
   "execution_count": 37,
   "metadata": {},
   "outputs": [
    {
     "data": {
      "text/plain": [
       "\"\\n#Initializing values and computing H. Note the 1. to force to float type\\ndef QPSolve(X,Y,C,gamma):\\n\\n    m,n = X.shape\\n    y = Y.reshape(-1,1) * 1.\\n    X_dash = y * X\\n    H = X\\n\\n    #Converting into cvxopt format - as previously\\n    P = cvxopt_matrix(H)\\n    q = cvxopt_matrix(-np.ones((m, 1)))\\n    G = cvxopt_matrix(np.vstack((np.eye(m)*-1,np.eye(m))))\\n    h = cvxopt_matrix(np.hstack((np.zeros(m), np.ones(m) * C)))\\n    A = cvxopt_matrix(y.reshape(1, -1))\\n    b = cvxopt_matrix(np.zeros(1))\\n\\n    #Run solver\\n    sol = cvxopt_solvers.qp(P, q, G, h, A, b)\\n    alphas = np.array(sol['x'])\\n\\n    #==================Computing and printing parameters===============================#\\n    w = ((y * alphas).T @ X).reshape(-1,1)\\n    S = (alphas > 1e-4).flatten()\\n    b = y[S] - np.dot(X[S], w)\\n\\n    #Display results\\n    print('Alphas = ',alphas[alphas > 1e-4])\\n    print('w = ', w.flatten())\\n    print('b = ', b[0])\\n    \\n    return w,b,S\\n\\nw,b,S = QPSolve(X_train,Y_train1,C=0.1,gamma=0.1)\\nW_final_rbf1 = np.c_[np.array(b[0]), np.array(w).T]\\n\\nw,b,S = QPSolve(X_train,Y_train2,C=0.1,gamma=0.1)\\nW_final_rbf2 = np.c_[np.array(b[0]), np.array(w).T]\\n\\nw,b,S = QPSolve(X_train,Y_train3,C=0.1,gamma=0.1)\\nW_final_rbf3 = np.c_[np.array(b[0]), np.array(w).T]\\n\""
      ]
     },
     "execution_count": 37,
     "metadata": {},
     "output_type": "execute_result"
    }
   ],
   "source": [
    "'''\n",
    "#Initializing values and computing H. Note the 1. to force to float type\n",
    "def QPSolve(X,Y,C,gamma):\n",
    "\n",
    "    m,n = X.shape\n",
    "    y = Y.reshape(-1,1) * 1.\n",
    "    X_dash = y * X\n",
    "    H = X\n",
    "\n",
    "    #Converting into cvxopt format - as previously\n",
    "    P = cvxopt_matrix(H)\n",
    "    q = cvxopt_matrix(-np.ones((m, 1)))\n",
    "    G = cvxopt_matrix(np.vstack((np.eye(m)*-1,np.eye(m))))\n",
    "    h = cvxopt_matrix(np.hstack((np.zeros(m), np.ones(m) * C)))\n",
    "    A = cvxopt_matrix(y.reshape(1, -1))\n",
    "    b = cvxopt_matrix(np.zeros(1))\n",
    "\n",
    "    #Run solver\n",
    "    sol = cvxopt_solvers.qp(P, q, G, h, A, b)\n",
    "    alphas = np.array(sol['x'])\n",
    "\n",
    "    #==================Computing and printing parameters===============================#\n",
    "    w = ((y * alphas).T @ X).reshape(-1,1)\n",
    "    S = (alphas > 1e-4).flatten()\n",
    "    b = y[S] - np.dot(X[S], w)\n",
    "\n",
    "    #Display results\n",
    "    print('Alphas = ',alphas[alphas > 1e-4])\n",
    "    print('w = ', w.flatten())\n",
    "    print('b = ', b[0])\n",
    "    \n",
    "    return w,b,S\n",
    "\n",
    "w,b,S = QPSolve(X_train,Y_train1,C=0.1,gamma=0.1)\n",
    "W_final_rbf1 = np.c_[np.array(b[0]), np.array(w).T]\n",
    "\n",
    "w,b,S = QPSolve(X_train,Y_train2,C=0.1,gamma=0.1)\n",
    "W_final_rbf2 = np.c_[np.array(b[0]), np.array(w).T]\n",
    "\n",
    "w,b,S = QPSolve(X_train,Y_train3,C=0.1,gamma=0.1)\n",
    "W_final_rbf3 = np.c_[np.array(b[0]), np.array(w).T]\n",
    "'''"
   ]
  },
  {
   "cell_type": "code",
   "execution_count": 38,
   "metadata": {},
   "outputs": [
    {
     "data": {
      "text/plain": [
       "\"\\nY_test1_predictions_rbf = SVMPrediction(np.c_[np.ones((X_test.shape[0],1)),X_test], W_final_rbf1.flatten())\\nY_test2_predictions_rbf = SVMPrediction(np.c_[np.ones((X_test.shape[0],1)),X_test], W_final_rbf2.flatten())\\nY_test3_predictions_rbf = SVMPrediction(np.c_[np.ones((X_test.shape[0],1)),X_test], W_final_rbf3.flatten())\\n\\nprint('Individual Class Performance with a Gaussian RBF Kernel'.upper(), '\\n')\\ncategories = ['Iris Setosa', 'Iris Versicolor', 'Iris Virginica']\\nDisplayMetrics(categories[0], tuple(ClassPerformanceMetrics(Y_test1, Y_test1_predictions_rbf)))\\nDisplayMetrics(categories[1], tuple(ClassPerformanceMetrics(Y_test2, Y_test2_predictions_rbf)))\\nDisplayMetrics(categories[2], tuple(ClassPerformanceMetrics(Y_test3, Y_test3_predictions_rbf)))\\n\""
      ]
     },
     "execution_count": 38,
     "metadata": {},
     "output_type": "execute_result"
    }
   ],
   "source": [
    "'''\n",
    "Y_test1_predictions_rbf = SVMPrediction(np.c_[np.ones((X_test.shape[0],1)),X_test], W_final_rbf1.flatten())\n",
    "Y_test2_predictions_rbf = SVMPrediction(np.c_[np.ones((X_test.shape[0],1)),X_test], W_final_rbf2.flatten())\n",
    "Y_test3_predictions_rbf = SVMPrediction(np.c_[np.ones((X_test.shape[0],1)),X_test], W_final_rbf3.flatten())\n",
    "\n",
    "print('Individual Class Performance with a Gaussian RBF Kernel'.upper(), '\\n')\n",
    "categories = ['Iris Setosa', 'Iris Versicolor', 'Iris Virginica']\n",
    "DisplayMetrics(categories[0], tuple(ClassPerformanceMetrics(Y_test1, Y_test1_predictions_rbf)))\n",
    "DisplayMetrics(categories[1], tuple(ClassPerformanceMetrics(Y_test2, Y_test2_predictions_rbf)))\n",
    "DisplayMetrics(categories[2], tuple(ClassPerformanceMetrics(Y_test3, Y_test3_predictions_rbf)))\n",
    "'''"
   ]
  },
  {
   "cell_type": "code",
   "execution_count": 39,
   "metadata": {},
   "outputs": [
    {
     "data": {
      "text/plain": [
       "'\\nY_test_prob1_rbf = Sigmoid(np.c_[np.ones((X_test.shape[0],1)),X_test].dot(W_final_rbf1.flatten()))\\nY_test_prob2_rbf = Sigmoid(np.c_[np.ones((X_test.shape[0],1)),X_test].dot(W_final_rbf2.flatten()))\\nY_test_prob3_rbf = Sigmoid(np.c_[np.ones((X_test.shape[0],1)),X_test].dot(W_final_rbf3.flatten()))\\n'"
      ]
     },
     "execution_count": 39,
     "metadata": {},
     "output_type": "execute_result"
    }
   ],
   "source": [
    "'''\n",
    "Y_test_prob1_rbf = Sigmoid(np.c_[np.ones((X_test.shape[0],1)),X_test].dot(W_final_rbf1.flatten()))\n",
    "Y_test_prob2_rbf = Sigmoid(np.c_[np.ones((X_test.shape[0],1)),X_test].dot(W_final_rbf2.flatten()))\n",
    "Y_test_prob3_rbf = Sigmoid(np.c_[np.ones((X_test.shape[0],1)),X_test].dot(W_final_rbf3.flatten()))\n",
    "'''"
   ]
  },
  {
   "cell_type": "code",
   "execution_count": 40,
   "metadata": {},
   "outputs": [
    {
     "data": {
      "text/plain": [
       "\"\\naccuracy_rbf, cm_rbf = ModelPerformanceMetrics(Y_test,Y_test_prob1_rbf,Y_test_prob2_rbf,Y_test_prob3_rbf)\\n\\nprint('Multiple Class Performance'.upper(), '\\n')\\nprint('Multiclass Classification Accuracy: ', '{} %'.format(accuracy_rbf*100))\\nprint('Multiclass Classification Confusion Matrix: ', '\\n', cm_rbf)\\n\""
      ]
     },
     "execution_count": 40,
     "metadata": {},
     "output_type": "execute_result"
    }
   ],
   "source": [
    "'''\n",
    "accuracy_rbf, cm_rbf = ModelPerformanceMetrics(Y_test,Y_test_prob1_rbf,Y_test_prob2_rbf,Y_test_prob3_rbf)\n",
    "\n",
    "print('Multiple Class Performance'.upper(), '\\n')\n",
    "print('Multiclass Classification Accuracy: ', '{} %'.format(accuracy_rbf*100))\n",
    "print('Multiclass Classification Confusion Matrix: ', '\\n', cm_rbf)\n",
    "'''"
   ]
  },
  {
   "cell_type": "code",
   "execution_count": null,
   "metadata": {},
   "outputs": [],
   "source": []
  }
 ],
 "metadata": {
  "kernelspec": {
   "display_name": "Python 3",
   "language": "python",
   "name": "python3"
  },
  "language_info": {
   "codemirror_mode": {
    "name": "ipython",
    "version": 3
   },
   "file_extension": ".py",
   "mimetype": "text/x-python",
   "name": "python",
   "nbconvert_exporter": "python",
   "pygments_lexer": "ipython3",
   "version": "3.7.4"
  }
 },
 "nbformat": 4,
 "nbformat_minor": 2
}
