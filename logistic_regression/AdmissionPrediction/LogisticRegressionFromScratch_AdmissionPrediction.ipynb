{
 "cells": [
  {
   "cell_type": "code",
   "execution_count": 1,
   "metadata": {},
   "outputs": [],
   "source": [
    "# This notebook implements the Logistic Regression model from scratch and uses it to make predictions on Admission Data"
   ]
  },
  {
   "cell_type": "code",
   "execution_count": 2,
   "metadata": {},
   "outputs": [],
   "source": [
    "# Import Statements\n",
    "import numpy as np\n",
    "from pathlib import Path\n",
    "import sklearn\n",
    "import matplotlib.pyplot as plt"
   ]
  },
  {
   "cell_type": "code",
   "execution_count": 3,
   "metadata": {},
   "outputs": [
    {
     "name": "stdout",
     "output_type": "stream",
     "text": [
      "(500, 8)\n"
     ]
    }
   ],
   "source": [
    "# Load the data into a numpy array\n",
    "root = Path('archive')\n",
    "filename = 'Admission_Predict_Ver1.1.csv'\n",
    "\n",
    "admission_data = np.genfromtxt(root / filename, delimiter = ',')\n",
    "#print(admission_data.shape)\n",
    "admission_data = admission_data[1:,1:]\n",
    "print(admission_data.shape)"
   ]
  },
  {
   "cell_type": "code",
   "execution_count": 4,
   "metadata": {},
   "outputs": [
    {
     "data": {
      "text/plain": [
       "((500, 7), (500, 1))"
      ]
     },
     "execution_count": 4,
     "metadata": {},
     "output_type": "execute_result"
    }
   ],
   "source": [
    "# Separate the predictors and the targets\n",
    "X = admission_data[:,:-1]\n",
    "Y = admission_data[:,-1:]\n",
    "X.shape, Y.shape"
   ]
  },
  {
   "cell_type": "code",
   "execution_count": 5,
   "metadata": {},
   "outputs": [
    {
     "name": "stdout",
     "output_type": "stream",
     "text": [
      "[ 1.82587279e-15  1.32249767e-15  8.39328607e-17  4.61852778e-16\n",
      " -9.76996262e-18 -5.66346969e-15 -2.51354493e-16] \n",
      " [1. 1. 1. 1. 1. 1. 1.]\n"
     ]
    }
   ],
   "source": [
    "# Normalize the data\n",
    "from sklearn.preprocessing import StandardScaler\n",
    "scaler = StandardScaler()\n",
    "X = scaler.fit_transform(X)\n",
    "print(X.mean(axis=0),'\\n', X.std(axis=0)) # 0 mean and 1 std"
   ]
  },
  {
   "cell_type": "code",
   "execution_count": 6,
   "metadata": {},
   "outputs": [],
   "source": [
    "def binarizeValues(input_2D_list):\n",
    "    '''This function binarizes the values in a 2D list. It rounds up any element > 0.5 upto 1 and rounds down any element < 0.5\n",
    "    down to 0.'''\n",
    "    output_2D_list = []\n",
    "    for input_inner_list in input_2D_list:\n",
    "        output_inner_list = []\n",
    "        for item in input_inner_list:\n",
    "            if item < 0.5:\n",
    "                output_inner_list.append(0)\n",
    "            else:\n",
    "                output_inner_list.append(1)\n",
    "        output_2D_list.append(output_inner_list)        \n",
    "    return output_2D_list\n"
   ]
  },
  {
   "cell_type": "code",
   "execution_count": 7,
   "metadata": {},
   "outputs": [
    {
     "name": "stdout",
     "output_type": "stream",
     "text": [
      "[[ 1.          1.19888185  1.44968975  0.77558214  1.64240413  1.09894429\n",
      "   1.44579426  0.88640526]\n",
      " [ 1.          0.66714832  0.46216267 -0.09979274  0.12727117  0.01730621\n",
      "   0.76721964  0.88640526]\n",
      " [ 1.          0.66714832  0.79133837  1.65095702  1.64240413  1.63976333\n",
      "   0.83342204  0.88640526]\n",
      " [ 1.         -1.10529675 -0.52536441 -0.09979274 -0.88281747 -1.60515091\n",
      "  -0.75543561 -1.12815215]\n",
      " [ 1.          0.57852607 -0.52536441 -0.09979274  0.63231549  0.55812525\n",
      "  -0.22581639  0.88640526]\n",
      " [ 1.         -0.0418297   0.29757483  0.77558214  1.13735981  0.01730621\n",
      "   0.30380282  0.88640526]\n",
      " [ 1.         -1.63703027 -1.51289149 -0.97516761  0.63231549 -0.52351283\n",
      "  -0.90439101 -1.12815215]\n",
      " [ 1.          0.31265931  0.46216267  1.65095702  1.64240413  1.63976333\n",
      "   1.03202924  0.88640526]\n",
      " [ 1.          1.02163734  1.28510191  0.77558214  1.13735981  0.55812525\n",
      "   0.96582684  0.88640526]\n",
      " [ 1.         -1.10529675 -0.68995225  1.65095702  1.64240413  0.55812525\n",
      "   0.10519562 -1.12815215]]\n",
      "[[1]\n",
      " [1]\n",
      " [1]\n",
      " [1]\n",
      " [1]\n",
      " [1]\n",
      " [0]\n",
      " [1]\n",
      " [1]\n",
      " [1]]\n"
     ]
    }
   ],
   "source": [
    "# Binarize the target vector\n",
    "Y = np.array(binarizeValues(Y.tolist()))\n",
    "# Shuffle up the data\n",
    "shuffled_indices = np.random.permutation(X.shape[0])\n",
    "X_shuffled = np.c_[np.ones((X.shape[0],1)),X[shuffled_indices]] # Add a column of 1's for the bias.\n",
    "Y_shuffled = Y[shuffled_indices]\n",
    "# Prepare the train and test sets\n",
    "X_train = X_shuffled[:400]\n",
    "Y_train = Y_shuffled[:400]\n",
    "X_test = X_shuffled[400:]\n",
    "Y_test = Y_shuffled[400:]\n",
    "\n",
    "print(X_train[:10])\n",
    "print(Y_train[:10])"
   ]
  },
  {
   "cell_type": "code",
   "execution_count": 8,
   "metadata": {},
   "outputs": [
    {
     "data": {
      "text/plain": [
       "array([[3.05902227e-07],\n",
       "       [9.99999694e-01]])"
      ]
     },
     "execution_count": 8,
     "metadata": {},
     "output_type": "execute_result"
    }
   ],
   "source": [
    "def Sigmoid(x):\n",
    "    return 1/(1+ np.exp(-x))\n",
    "\n",
    "Sigmoid(np.array([[-10, -5, 0],[0, 5, 10]]).dot(np.ones([3,1]))) # Testing the function execution"
   ]
  },
  {
   "cell_type": "code",
   "execution_count": 9,
   "metadata": {},
   "outputs": [
    {
     "name": "stdout",
     "output_type": "stream",
     "text": [
      "Cost:  \n",
      " [4.53988992e-05] \n",
      "\n",
      "Gradient:  \n",
      " [[4.53978687e-05]\n",
      " [4.53978687e-05]]\n"
     ]
    }
   ],
   "source": [
    "def CostFunction(X,Y,theta):\n",
    "    m = X.shape[0]\n",
    "    Y_predicted = Sigmoid(X.dot(theta))\n",
    "    \n",
    "    J = 0\n",
    "    for i in range(m):\n",
    "        J += Y[i]*np.log(Y_predicted[i]) + (1-Y[i])*np.log(1-Y_predicted[i])\n",
    "    J = (-1/m)*J\n",
    "    \n",
    "    #J = (-1/m)*(np.dot(Y.T,np.log(Y_predicted)) + np.dot((1-Y).T,np.log(1-Y_predicted)))\n",
    "    \n",
    "    return J\n",
    "\n",
    "def Gradients(X,Y,theta):\n",
    "    m = X.shape[0]\n",
    "    gradients = np.zeros(theta.shape)\n",
    "    \n",
    "    if m == 1:\n",
    "        gradients = X.T.dot(Sigmoid(np.dot(X,theta))-Y) # Check if correct. Didn't have the sigmoid call, only argument before\n",
    "    else:\n",
    "        for j in range(len(theta)):   \n",
    "            for i in range(m):\n",
    "                gradients[j] += (Sigmoid(X[i].dot(theta)) - Y[i])*X[i,j]\n",
    "            gradients[j] = (1/m)*gradients[j]\n",
    "      \n",
    "    #gradients = (1/m)*X.T.dot(Sigmoid(X.dot(theta)) - Y)\n",
    "    \n",
    "    return gradients\n",
    "\n",
    "# Testing the function executions\n",
    "print('Cost: ', '\\n', CostFunction(np.array([[1,1],[1,1]]), np.array([[0],[0]]), np.array([[-5],[-5]])), '\\n')\n",
    "print('Gradient: ','\\n', Gradients(np.array([[1,1],[1,1]]), np.array([[0],[0]]), np.array([[-5],[-5]])))"
   ]
  },
  {
   "cell_type": "code",
   "execution_count": 10,
   "metadata": {},
   "outputs": [],
   "source": [
    "def BatchGradientDescent(X_train,Y_train,max_iters = 40000 ,alpha = 0.01, tolerance = 0.000001):\n",
    "    m = len(X_train)\n",
    "    theta = np.zeros((X_train.shape[1],1))\n",
    "    previous_step_size = 1\n",
    "    iteration = 0\n",
    "    cost_history = []\n",
    "    \n",
    "    while previous_step_size > tolerance and iteration < max_iters:\n",
    "        cost = CostFunction(X_train,Y_train,theta)\n",
    "        cost_history.append(cost)\n",
    "        theta_previous = theta #Store current x value in prev_x\n",
    "        \n",
    "        theta = theta - (alpha/m) * Gradients(X_train,Y_train,theta_previous) #Grad descent\n",
    "        \n",
    "        previous_step_size = np.linalg.norm((theta - theta_previous)) #Change in x\n",
    "        iteration += 1 #iteration counter\n",
    "    \n",
    "    print(\"The local minimum occurs at:\",'\\n', theta, 'at',iteration,'iterations')    \n",
    "\n",
    "    return theta, cost_history"
   ]
  },
  {
   "cell_type": "code",
   "execution_count": 11,
   "metadata": {},
   "outputs": [],
   "source": [
    "def learning_schedule(t, t0, t1):\n",
    "    return t0/(t + t1)\n",
    "def StochasticGradientDescent(X_train, Y_train, epochs = 500, alpha = 0.1, tolerance = 0.000001, batch_size = 1): # If batch_size > 1, it becomes Mini-Batch Gradient Descent\n",
    "    m = len(X_train)\n",
    "    theta = np.zeros((X_train.shape[1],1))\n",
    "    previous_step_size = 1\n",
    "    cost_history = []\n",
    "    epoch = 0\n",
    "    \n",
    "    while epoch < epochs and previous_step_size > tolerance:\n",
    "        shuffled_indices = np.random.permutation(len(X_train))\n",
    "        X_train_shuffled = X_train[shuffled_indices]\n",
    "        Y_train_shuffled = Y_train[shuffled_indices]\n",
    "\n",
    "        for index in range(m):\n",
    "            cost = CostFunction(X_train, Y_train, theta)\n",
    "            cost_history.append(cost)\n",
    "            \n",
    "            previous_theta = theta\n",
    "            alpha = learning_schedule(alpha,1,10)\n",
    "            theta = theta - (alpha/m)*Gradients(np.array(X_train_shuffled)[index:index+batch_size,:],np.array(Y_train_shuffled)[index:index+batch_size,:],previous_theta)\n",
    "            previous_step_size = np.linalg.norm((theta - previous_theta))\n",
    "            \n",
    "        epoch += 1\n",
    "        \n",
    "    print(\"The local minimum occurs at:\",'\\n', theta, 'at',epoch,'epochs')    \n",
    "\n",
    "    return theta, cost_history"
   ]
  },
  {
   "cell_type": "code",
   "execution_count": 12,
   "metadata": {},
   "outputs": [],
   "source": [
    "def MiniBatchGradientDescent(X_train, Y_train, epochs = 5000, alpha = 0.1, tolerance = 0.000001, batch_size = 10): # If batch_size > 1, it becomes Mini-Batch Gradient Descent\n",
    "    m = len(X_train)\n",
    "    theta = np.zeros((X_train.shape[1],1))\n",
    "    previous_step_size = 1\n",
    "    cost_history = []\n",
    "    epoch = 0\n",
    "    \n",
    "    while epoch < epochs and previous_step_size > tolerance:\n",
    "        shuffled_indices = np.random.permutation(len(X_train))\n",
    "        X_train_shuffled = X_train[shuffled_indices]\n",
    "        Y_train_shuffled = Y_train[shuffled_indices]\n",
    "\n",
    "        \n",
    "        cost = CostFunction(X_train, Y_train, theta)\n",
    "        cost_history.append(cost)\n",
    "            \n",
    "        previous_theta = theta\n",
    "        alpha = learning_schedule(alpha,1,10)\n",
    "        theta = theta - (alpha/m)*Gradients(np.array(X_train_shuffled)[0:batch_size,:],np.array(Y_train_shuffled)[0:batch_size,:],previous_theta)\n",
    "        previous_step_size = np.linalg.norm((theta - previous_theta))\n",
    "            \n",
    "        epoch += 1\n",
    "        \n",
    "    print(\"The local minimum occurs at:\",'\\n', theta, 'at',epoch,'epochs')    \n",
    "\n",
    "    return theta, cost_history"
   ]
  },
  {
   "cell_type": "code",
   "execution_count": 33,
   "metadata": {},
   "outputs": [
    {
     "name": "stdout",
     "output_type": "stream",
     "text": [
      "The local minimum occurs at: \n",
      " [[0.45056859]\n",
      " [0.0808237 ]\n",
      " [0.08051854]\n",
      " [0.03963138]\n",
      " [0.02177472]\n",
      " [0.05333966]\n",
      " [0.08323247]\n",
      " [0.04634312]] at 5000 epochs\n"
     ]
    }
   ],
   "source": [
    "strategy = ['BGD', 'SGD', 'MBGD'][2]\n",
    "if strategy == 'BGD':\n",
    "    theta_final, cost_history = BatchGradientDescent(X_train,Y_train) \n",
    "    # Accuracy: 0.93, Confusion Matrix: [[ 4  2],[ 5 89]]\n",
    "elif strategy == 'SGD':\n",
    "    theta_final, cost_history = StochasticGradientDescent(X_train,Y_train, batch_size = 1) \n",
    "    #  Batch Size = 1: Accuracy: 0.92, Confusion Matrix: [[ 0  8],[ 0 92]]\n",
    "elif strategy == 'MBGD':\n",
    "    theta_final, cost_history = MiniBatchGradientDescent(X_train,Y_train, batch_size = 10) \n",
    "    # Batch Size = 10: Accuracy: 0.93, Confusion Matrix: [[1  7],[0 92]]\n",
    "    "
   ]
  },
  {
   "cell_type": "code",
   "execution_count": 34,
   "metadata": {},
   "outputs": [
    {
     "data": {
      "image/png": "[encoded data removed]",
      "text/plain": [
       "<Figure size 432x288 with 1 Axes>"
      ]
     },
     "metadata": {
      "needs_background": "light"
     },
     "output_type": "display_data"
    }
   ],
   "source": [
    "\n",
    "plt.plot(np.arange(len(cost_history)), cost_history)\n",
    "plt.title('{} Cost vs Iterations'.format(strategy),fontsize=20,fontstyle='italic')\n",
    "plt.xlabel('Iterations')\n",
    "plt.ylabel('Cost')\n",
    "plt.savefig('{}_CostVsIterations.png'.format(strategy), dpi = 300)\n",
    "plt.show()\n"
   ]
  },
  {
   "cell_type": "code",
   "execution_count": 35,
   "metadata": {},
   "outputs": [
    {
     "data": {
      "text/plain": [
       "array([[0.65583842],\n",
       "       [0.57496609],\n",
       "       [0.58255479],\n",
       "       [0.53537159],\n",
       "       [0.67853891],\n",
       "       [0.68499994],\n",
       "       [0.68682902],\n",
       "       [0.66335742],\n",
       "       [0.64736369],\n",
       "       [0.66520721],\n",
       "       [0.58928077],\n",
       "       [0.66051459],\n",
       "       [0.74878143],\n",
       "       [0.62344238],\n",
       "       [0.59291897],\n",
       "       [0.71059253],\n",
       "       [0.62314438],\n",
       "       [0.5625028 ],\n",
       "       [0.54448584],\n",
       "       [0.558504  ]])"
      ]
     },
     "execution_count": 35,
     "metadata": {},
     "output_type": "execute_result"
    }
   ],
   "source": [
    "# Obtain the predictions for the test data, given the trained parameters\n",
    "def predictTestData(X_test,theta):\n",
    "    predictions = Sigmoid(X_test.dot(theta))\n",
    "    return predictions\n",
    "\n",
    "Y_test_predictions = predictTestData(X_test, theta_final)\n",
    "Y_test_predictions[:20]"
   ]
  },
  {
   "cell_type": "code",
   "execution_count": 36,
   "metadata": {},
   "outputs": [],
   "source": [
    "# Convert the predicted target values into 0's and 1's\n",
    "Y_test_predictions = np.array(binarizeValues(Y_test_predictions.tolist()))"
   ]
  },
  {
   "cell_type": "code",
   "execution_count": 37,
   "metadata": {},
   "outputs": [
    {
     "name": "stdout",
     "output_type": "stream",
     "text": [
      "Test Set Accuracy: 0.91\n",
      "Confusion Matrix :  \n",
      " [[ 3  3]\n",
      " [ 6 88]]\n",
      "Precision: 0.967032967032967\n",
      "Recall: 0.9361702127659575\n",
      "F1-score: 0.9513513513513514\n"
     ]
    }
   ],
   "source": [
    "def performanceMetrics(l1,l2):\n",
    "    '''This function compares two lists element-wise and returns accuracy, confusion matrix, precision, recall and f1-score'''\n",
    "    # l1: Actual labels\n",
    "    # l2: Predicted labels\n",
    "    TN,FP,FN,TP = [0]*4\n",
    "    \n",
    "    for item1,item2 in zip(l1,l2):\n",
    "        if item1 == item2:\n",
    "            if item1 == 0:\n",
    "                TN += 1\n",
    "            elif item1 == 1:\n",
    "                TP += 1\n",
    "        else:\n",
    "            if item1 == 0 and item2 == 1:\n",
    "                FP += 1\n",
    "            elif item1 == 1 and item2 == 0:\n",
    "                FN += 1\n",
    "    accuracy = (TN + TP)/(TN + FP + FN + TP)\n",
    "    confusion_matrix = np.array([[TN, FP],[FN, TP]])\n",
    "    precision = TP/(TP + FP)\n",
    "    recall = TP/(TP + FN)\n",
    "    f1_score = TP/(TP + (FN + FP)/2)\n",
    "    return accuracy, confusion_matrix, precision, recall, f1_score\n",
    "\n",
    "accuracy, confusion_matrix, precision, recall, f1_score = performanceMetrics(Y_test.flatten().tolist(),Y_test_predictions.flatten().tolist())\n",
    "print('Test Set Accuracy: {}'.format(accuracy))\n",
    "print('Confusion Matrix : ', '\\n', '{}'.format(confusion_matrix))\n",
    "print('Precision: {}'.format(precision))\n",
    "print('Recall: {}'.format(recall))\n",
    "print('F1-score: {}'.format(f1_score))"
   ]
  },
  {
   "cell_type": "code",
   "execution_count": null,
   "metadata": {},
   "outputs": [],
   "source": []
  }
 ],
 "metadata": {
  "kernelspec": {
   "display_name": "Python 3",
   "language": "python",
   "name": "python3"
  },
  "language_info": {
   "codemirror_mode": {
    "name": "ipython",
    "version": 3
   },
   "file_extension": ".py",
   "mimetype": "text/x-python",
   "name": "python",
   "nbconvert_exporter": "python",
   "pygments_lexer": "ipython3",
   "version": "3.7.4"
  }
 },
 "nbformat": 4,
 "nbformat_minor": 2
}
