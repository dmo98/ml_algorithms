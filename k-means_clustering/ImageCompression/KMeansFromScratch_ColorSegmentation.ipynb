{
 "cells": [
  {
   "cell_type": "code",
   "execution_count": 1,
   "metadata": {},
   "outputs": [],
   "source": [
    "# In this notebook, I will be implementing the K-Means Clustering algorithm from scratch and using it to perform color\n",
    "# segmentation on images."
   ]
  },
  {
   "cell_type": "code",
   "execution_count": 2,
   "metadata": {},
   "outputs": [],
   "source": [
    "import numpy as np\n",
    "import matplotlib.pyplot as plt\n",
    "import matplotlib.image as mplimg\n",
    "from pathlib import Path"
   ]
  },
  {
   "cell_type": "code",
   "execution_count": 3,
   "metadata": {},
   "outputs": [
    {
     "data": {
      "text/plain": [
       "(220, 220, 3)"
      ]
     },
     "execution_count": 3,
     "metadata": {},
     "output_type": "execute_result"
    }
   ],
   "source": [
    "image = mplimg.imread('lena.png')\n",
    "image.shape"
   ]
  },
  {
   "cell_type": "code",
   "execution_count": 4,
   "metadata": {},
   "outputs": [
    {
     "data": {
      "text/plain": [
       "(48400, 3)"
      ]
     },
     "execution_count": 4,
     "metadata": {},
     "output_type": "execute_result"
    }
   ],
   "source": [
    "image_flattened = image.reshape(-1,3)\n",
    "image_flattened.shape"
   ]
  },
  {
   "cell_type": "code",
   "execution_count": 5,
   "metadata": {},
   "outputs": [
    {
     "name": "stdout",
     "output_type": "stream",
     "text": [
      "Testing the \"ModelInertia\" function \n",
      " 0.01003393467420653 \n",
      "\n",
      "Testing the \"InitializeCentroids\" function... \n",
      " [[0.3529412  0.09803922 0.27058825]\n",
      " [0.9411765  0.79607844 0.62352943]\n",
      " [0.827451   0.49019608 0.4862745 ]\n",
      " [0.6156863  0.2        0.28235295]\n",
      " [0.8666667  0.4627451  0.40784314]\n",
      " [0.8352941  0.32941177 0.33333334]\n",
      " [0.8352941  0.40392157 0.3882353 ]\n",
      " [0.49803922 0.20392157 0.3019608 ]] \n",
      "\n",
      "Testing the \"FindClosestCentroids\" function... \n",
      " [2. 2. 2. ... 3. 3. 3.] \n",
      "\n",
      "Testing the \"UpdateCentroids\" function... \n",
      " [[0.36736983 0.09254902 0.25748162]\n",
      " [0.90701774 0.74727663 0.65166527]\n",
      " [0.80989477 0.52771452 0.50477171]\n",
      " [0.64732447 0.25053063 0.31183529]\n",
      " [0.88179528 0.48710835 0.41991171]\n",
      " [0.76680487 0.32744594 0.34323505]\n",
      " [0.80058136 0.39130816 0.39424332]\n",
      " [0.4914531  0.21082357 0.35812253]]\n"
     ]
    }
   ],
   "source": [
    "def ModelInertia(X, centroids, cluster_indices):\n",
    "    m = len(X)\n",
    "    sd = 0\n",
    "    X_pred = X.copy()\n",
    "    for i in range(m):\n",
    "        X_pred[i] = centroids[int(cluster_indices[i])]\n",
    "        sd = sd + (np.linalg.norm(X[i] - X_pred[i])**2)\n",
    "    msd = sd/m\n",
    "    return msd\n",
    "\n",
    "def InitializeCentroids(X,k):\n",
    "    shuffled_indices = np.random.permutation(len(X))\n",
    "    centroids = X[shuffled_indices[:k]]\n",
    "    return centroids\n",
    "\n",
    "def FindClosestCentroid(X,centroids):\n",
    "    m = len(X)\n",
    "    k = len(centroids)\n",
    "\n",
    "    distances = np.zeros((m,k))\n",
    "    cluster_indices = np.zeros(m)\n",
    "\n",
    "    for i in range(m):\n",
    "        for j in range(k):\n",
    "            distances[i,j] = np.linalg.norm(X[i] - centroids[j])\n",
    "            \n",
    "        indx = 0\n",
    "        for j in range(1,k):\n",
    "            if distances[i,j] < distances[i,indx]:\n",
    "                indx = j\n",
    "        cluster_indices[i] = indx\n",
    "    return cluster_indices\n",
    "\n",
    "def UpdateCentroids(X,cluster_indices,k):\n",
    "    m = len(X)\n",
    "    n = X.shape[1]\n",
    "\n",
    "    total = np.zeros((k,n))\n",
    "    num = np.zeros(k)\n",
    "    centroids_updated = np.zeros((k,n))\n",
    "    \n",
    "    for i in range(m):\n",
    "        for j in range(k):\n",
    "            if cluster_indices[i] == j:\n",
    "                total[j,:] = total[j,:] + X[i,:]\n",
    "                num[j] = num[j] + 1\n",
    "\n",
    "    for j in range(k):\n",
    "        centroids_updated[j] = total[j,:]/num[j]\n",
    "    return centroids_updated\n",
    "\n",
    "\n",
    "centroids = InitializeCentroids(image_flattened, 8)\n",
    "cluster_indices = FindClosestCentroid(image_flattened, centroids)\n",
    "inertia = ModelInertia(image_flattened, centroids, cluster_indices)\n",
    "centroids_updated = UpdateCentroids(image_flattened,cluster_indices,8)\n",
    "print('Testing the \"ModelInertia\" function', '\\n', ModelInertia(image_flattened, centroids, cluster_indices), '\\n')\n",
    "print('Testing the \"InitializeCentroids\" function...', '\\n', centroids, '\\n')\n",
    "print('Testing the \"FindClosestCentroids\" function...', '\\n', cluster_indices, '\\n')\n",
    "print('Testing the \"UpdateCentroids\" function...', '\\n', centroids_updated)"
   ]
  },
  {
   "cell_type": "code",
   "execution_count": 6,
   "metadata": {},
   "outputs": [],
   "source": [
    "def KMeans(X, K = 8, n_init = 10, n_iters = 100, tolerance = 0.001 ):\n",
    "    min_inertia = float('inf')\n",
    "    best_centroids = None\n",
    "    best_cluster_indices = None\n",
    "\n",
    "    for epoch in range(n_init):\n",
    "        previous_step_size = 1\n",
    "        iteration = 0\n",
    "        centroids = InitializeCentroids(X, K)\n",
    "        while iteration < n_iters and previous_step_size > tolerance:\n",
    "            cluster_indices = FindClosestCentroid(X, centroids)\n",
    "            centroids_updated = UpdateCentroids(X,cluster_indices,K)\n",
    "\n",
    "            previous_step_size = np.linalg.norm((centroids_updated - centroids))\n",
    "            if previous_step_size < tolerance:\n",
    "                print('Exiting after {} iterations'.format(iteration), '\\n')\n",
    "                break\n",
    "            else:\n",
    "                centroids = centroids_updated\n",
    "                print('Epoch: {}, Iteration: {}'.format(epoch, iteration))\n",
    "                iteration += 1\n",
    "        inertia = ModelInertia(X, centroids, cluster_indices)\n",
    "        if inertia < min_inertia:\n",
    "            min_inertia = inertia\n",
    "            best_centroids = centroids\n",
    "            best_cluster_indices = cluster_indices\n",
    "            print('Better model found at {} epochs'.format(epoch), '\\n')\n",
    "    \n",
    "    return min_inertia, best_centroids, best_cluster_indices\n"
   ]
  },
  {
   "cell_type": "code",
   "execution_count": 7,
   "metadata": {
    "scrolled": true
   },
   "outputs": [
    {
     "name": "stdout",
     "output_type": "stream",
     "text": [
      "Epoch: 0, Iteration: 0\n",
      "Epoch: 0, Iteration: 1\n",
      "Epoch: 0, Iteration: 2\n",
      "Epoch: 0, Iteration: 3\n",
      "Epoch: 0, Iteration: 4\n",
      "Epoch: 0, Iteration: 5\n",
      "Epoch: 0, Iteration: 6\n",
      "Epoch: 0, Iteration: 7\n",
      "Exiting after 8 iterations \n",
      "\n",
      "Better model found at 0 epochs \n",
      "\n",
      "Epoch: 1, Iteration: 0\n",
      "Epoch: 1, Iteration: 1\n",
      "Epoch: 1, Iteration: 2\n",
      "Epoch: 1, Iteration: 3\n",
      "Epoch: 1, Iteration: 4\n",
      "Exiting after 5 iterations \n",
      "\n",
      "Better model found at 1 epochs \n",
      "\n",
      "Epoch: 2, Iteration: 0\n",
      "Epoch: 2, Iteration: 1\n",
      "Epoch: 2, Iteration: 2\n",
      "Epoch: 2, Iteration: 3\n",
      "Epoch: 2, Iteration: 4\n",
      "Epoch: 2, Iteration: 5\n",
      "Epoch: 2, Iteration: 6\n",
      "Epoch: 2, Iteration: 7\n",
      "Epoch: 2, Iteration: 8\n",
      "Exiting after 9 iterations \n",
      "\n",
      "Epoch: 3, Iteration: 0\n",
      "Epoch: 3, Iteration: 1\n",
      "Epoch: 3, Iteration: 2\n",
      "Epoch: 3, Iteration: 3\n",
      "Epoch: 3, Iteration: 4\n",
      "Epoch: 3, Iteration: 5\n",
      "Epoch: 3, Iteration: 6\n",
      "Epoch: 3, Iteration: 7\n",
      "Epoch: 3, Iteration: 8\n",
      "Epoch: 3, Iteration: 9\n",
      "Epoch: 3, Iteration: 10\n",
      "Epoch: 3, Iteration: 11\n",
      "Exiting after 12 iterations \n",
      "\n",
      "Epoch: 4, Iteration: 0\n",
      "Epoch: 4, Iteration: 1\n",
      "Epoch: 4, Iteration: 2\n",
      "Epoch: 4, Iteration: 3\n",
      "Epoch: 4, Iteration: 4\n",
      "Epoch: 4, Iteration: 5\n",
      "Epoch: 4, Iteration: 6\n",
      "Epoch: 4, Iteration: 7\n",
      "Epoch: 4, Iteration: 8\n",
      "Epoch: 4, Iteration: 9\n",
      "Exiting after 10 iterations \n",
      "\n"
     ]
    }
   ],
   "source": [
    "inertia_final, centroids_final, cluster_indices_final = KMeans(image_flattened, K = 4, n_init = 5, tolerance = 0.01)"
   ]
  },
  {
   "cell_type": "code",
   "execution_count": 8,
   "metadata": {},
   "outputs": [
    {
     "data": {
      "image/png": "[encoded data removed]",
      "text/plain": [
       "<Figure size 432x288 with 1 Axes>"
      ]
     },
     "metadata": {
      "needs_background": "light"
     },
     "output_type": "display_data"
    }
   ],
   "source": [
    "def ReconstructImage(centroids, cluster_indices, shape):\n",
    "    image_reconstructed_flattened = centroids[cluster_indices.astype(int)]\n",
    "    image_reconstructed = image_reconstructed_flattened.reshape(shape)\n",
    "    return image_reconstructed\n",
    "\n",
    "image_recovered = ReconstructImage(centroids_final, cluster_indices_final, image.shape)\n",
    "plt.imshow(image_recovered)\n",
    "plt.show()"
   ]
  },
  {
   "cell_type": "code",
   "execution_count": 9,
   "metadata": {},
   "outputs": [
    {
     "data": {
      "text/plain": [
       "\"\\nclusters = [64,32,16,8,4,2]\\nplt.imshow(image)\\nplt.title('Original Image')\\nplt.show()\\nfor k in clusters:\\n    inertia_final, centroids_final, cluster_indices_final = KMeans(image_flattened, K = k, n_init = 5, tolerance = 0.01)\\n    image_recovered = ReconstructImage(centroids_final, cluster_indices_final, image.shape)\\n    plt.imshow(image_recovered)\\n    plt.title('Color Segmented Image with {} colors'.format(k))\\n    plt.show()\\n\""
      ]
     },
     "execution_count": 9,
     "metadata": {},
     "output_type": "execute_result"
    }
   ],
   "source": [
    "'''\n",
    "clusters = [64,32,16,8,4,2]\n",
    "plt.imshow(image)\n",
    "plt.title('Original Image')\n",
    "plt.show()\n",
    "for k in clusters:\n",
    "    inertia_final, centroids_final, cluster_indices_final = KMeans(image_flattened, K = k, n_init = 5, tolerance = 0.01)\n",
    "    image_recovered = ReconstructImage(centroids_final, cluster_indices_final, image.shape)\n",
    "    plt.imshow(image_recovered)\n",
    "    plt.title('Color Segmented Image with {} colors'.format(k))\n",
    "    plt.show()\n",
    "'''"
   ]
  },
  {
   "cell_type": "code",
   "execution_count": null,
   "metadata": {},
   "outputs": [],
   "source": []
  }
 ],
 "metadata": {
  "kernelspec": {
   "display_name": "Python 3",
   "language": "python",
   "name": "python3"
  },
  "language_info": {
   "codemirror_mode": {
    "name": "ipython",
    "version": 3
   },
   "file_extension": ".py",
   "mimetype": "text/x-python",
   "name": "python",
   "nbconvert_exporter": "python",
   "pygments_lexer": "ipython3",
   "version": "3.7.4"
  }
 },
 "nbformat": 4,
 "nbformat_minor": 2
}
