{
 "cells": [
  {
   "cell_type": "code",
   "execution_count": 1,
   "metadata": {},
   "outputs": [],
   "source": [
    "# In this notebook, I will be using Scikit-Learn's DecisionTreeClassifier class to fit a Decision Tree model on the Iris Dataset\n",
    "# and to generate predictions and a visualization of the tree."
   ]
  },
  {
   "cell_type": "code",
   "execution_count": 2,
   "metadata": {},
   "outputs": [],
   "source": [
    "import numpy as np\n",
    "import sklearn\n",
    "from sklearn.datasets import load_iris\n",
    "from sklearn.tree import DecisionTreeClassifier"
   ]
  },
  {
   "cell_type": "code",
   "execution_count": 3,
   "metadata": {},
   "outputs": [
    {
     "data": {
      "text/plain": [
       "dict_keys(['data', 'target', 'target_names', 'DESCR', 'feature_names', 'filename'])"
      ]
     },
     "execution_count": 3,
     "metadata": {},
     "output_type": "execute_result"
    }
   ],
   "source": [
    "iris_data = load_iris()\n",
    "iris_data.keys()"
   ]
  },
  {
   "cell_type": "code",
   "execution_count": 4,
   "metadata": {},
   "outputs": [
    {
     "name": "stdout",
     "output_type": "stream",
     "text": [
      "(150, 4) (150,)\n"
     ]
    }
   ],
   "source": [
    "X = iris_data['data']\n",
    "Y = iris_data['target']\n",
    "\n",
    "print(X.shape, Y.shape)"
   ]
  },
  {
   "cell_type": "code",
   "execution_count": 5,
   "metadata": {},
   "outputs": [
    {
     "name": "stdout",
     "output_type": "stream",
     "text": [
      "(120, 4) (120,) \n",
      " (30, 4) (30,)\n"
     ]
    }
   ],
   "source": [
    "shuffled_indices = np.random.permutation(len(X))\n",
    "train_set_size = int(0.8*len(X))\n",
    "\n",
    "X_train = X[shuffled_indices[:train_set_size]]\n",
    "X_test = X[shuffled_indices[train_set_size:]]\n",
    "Y_train = Y[shuffled_indices[:train_set_size]]\n",
    "Y_test = Y[shuffled_indices[train_set_size:]]\n",
    "\n",
    "print(X_train.shape, Y_train.shape, '\\n', X_test.shape, Y_test.shape)"
   ]
  },
  {
   "cell_type": "code",
   "execution_count": 6,
   "metadata": {},
   "outputs": [
    {
     "name": "stdout",
     "output_type": "stream",
     "text": [
      "DECISION TREE CLASSIFIER PERFORMANCE \n",
      "\n",
      "Accuracy:  100.0 %\n",
      "Confusion Matrix:  \n",
      " [[10  0  0]\n",
      " [ 0 11  0]\n",
      " [ 0  0  9]]\n"
     ]
    }
   ],
   "source": [
    "tree_clf = DecisionTreeClassifier()\n",
    "tree_clf.fit(X_train,Y_train)\n",
    "Y_test_predictions = tree_clf.predict(X_test)\n",
    "\n",
    "from sklearn.metrics import accuracy_score, confusion_matrix\n",
    "accuracy = accuracy_score(Y_test,Y_test_predictions)\n",
    "cm = confusion_matrix(Y_test,Y_test_predictions)\n",
    "\n",
    "print('Decision Tree Classifier Performance'.upper(), '\\n')\n",
    "print('Accuracy: ', '{} %'.format(accuracy*100))\n",
    "print('Confusion Matrix: ', '\\n', cm)"
   ]
  },
  {
   "cell_type": "code",
   "execution_count": 7,
   "metadata": {},
   "outputs": [
    {
     "data": {
      "text/plain": [
       "\"\\nfrom sklearn.tree import export_graphviz\\nexport_graphviz(\\n    tree_clf,\\n    out_file = 'Iris_Tree.dot',\\n    feature_names = iris_data.feature_names,\\n    class_names = iris_data.target_names,\\n    rounded = True,\\n    filled = True\\n)\\n\""
      ]
     },
     "execution_count": 7,
     "metadata": {},
     "output_type": "execute_result"
    }
   ],
   "source": [
    "'''\n",
    "from sklearn.tree import export_graphviz\n",
    "export_graphviz(\n",
    "    tree_clf,\n",
    "    out_file = 'Iris_Tree.dot',\n",
    "    feature_names = iris_data.feature_names,\n",
    "    class_names = iris_data.target_names,\n",
    "    rounded = True,\n",
    "    filled = True\n",
    ")\n",
    "'''"
   ]
  },
  {
   "cell_type": "code",
   "execution_count": null,
   "metadata": {},
   "outputs": [],
   "source": []
  }
 ],
 "metadata": {
  "kernelspec": {
   "display_name": "Python 3",
   "language": "python",
   "name": "python3"
  },
  "language_info": {
   "codemirror_mode": {
    "name": "ipython",
    "version": 3
   },
   "file_extension": ".py",
   "mimetype": "text/x-python",
   "name": "python",
   "nbconvert_exporter": "python",
   "pygments_lexer": "ipython3",
   "version": "3.7.4"
  }
 },
 "nbformat": 4,
 "nbformat_minor": 2
}
